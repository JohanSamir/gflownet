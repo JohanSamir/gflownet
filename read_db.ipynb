{
 "cells": [
  {
   "cell_type": "code",
   "execution_count": 57,
   "metadata": {},
   "outputs": [],
   "source": [
    "import pandas as pd\n",
    "import sqlite3\n",
    "import os\n",
    "import glob\n",
    "\n",
    "def read_sqlite_to_dataframe(db_path: str) -> pd.DataFrame:\n",
    "    \"\"\"\n",
    "    Reads an SQLite database file into a pandas DataFrame.\n",
    "\n",
    "    Parameters\n",
    "    ----------\n",
    "    db_path : str\n",
    "        Path to the SQLite database.\n",
    "\n",
    "    Returns\n",
    "    -------\n",
    "    pd.DataFrame\n",
    "        DataFrame representation of the 'results' table in the SQLite database.\n",
    "    \"\"\"\n",
    "    # Connect to the database\n",
    "    conn = sqlite3.connect(db_path)\n",
    "    \n",
    "    # Extract the 'results' table into a DataFrame\n",
    "    df = pd.read_sql_query(\"SELECT * FROM results\", conn)\n",
    "    \n",
    "    # Close the database connection\n",
    "    conn.close()\n",
    "    \n",
    "    return df"
   ]
  },
  {
   "cell_type": "code",
   "execution_count": 58,
   "metadata": {},
   "outputs": [],
   "source": [
    "def read_db_data(db_path: str) -> list:\n",
    "    \"\"\"\n",
    "    Reads all data from the `results` table of the SQLite database located at db_path.\n",
    "\n",
    "    Parameters\n",
    "    ----------\n",
    "    db_path: str\n",
    "        The sqlite3 database path.\n",
    "\n",
    "    Returns\n",
    "    -------\n",
    "    list\n",
    "        A list of tuples containing rows from the `results` table or an empty list if the table doesn't exist.\n",
    "    \"\"\"\n",
    "    conn = sqlite3.connect(db_path)\n",
    "    cur = conn.cursor()\n",
    "    \n",
    "    try:\n",
    "        cur.execute(\"SELECT * FROM results\")\n",
    "        data = cur.fetchall()\n",
    "    except sqlite3.OperationalError as e:\n",
    "        if \"no such table: results\" in str(e):\n",
    "            print(\"The table 'results' does not exist in the database.\")\n",
    "            data = []\n",
    "        else:\n",
    "            raise e\n",
    "    finally:\n",
    "        cur.close()\n",
    "        conn.close()\n",
    "    \n",
    "    return data"
   ]
  },
  {
   "cell_type": "code",
   "execution_count": 59,
   "metadata": {},
   "outputs": [],
   "source": [
    "db = read_db_data(\"logs/debug_run_seh_frag/final/generated_mols_0.db\")"
   ]
  },
  {
   "cell_type": "code",
   "execution_count": null,
   "metadata": {},
   "outputs": [],
   "source": []
  },
  {
   "cell_type": "code",
   "execution_count": 60,
   "metadata": {},
   "outputs": [],
   "source": [
    "df = read_sqlite_to_dataframe(\"logs/debug_run_seh_frag/final/generated_mols_0.db\")"
   ]
  },
  {
   "cell_type": "code",
   "execution_count": 61,
   "metadata": {},
   "outputs": [],
   "source": [
    "from gflownet.utils.metrics import compute_diverse_top_k"
   ]
  },
  {
   "cell_type": "code",
   "execution_count": 71,
   "metadata": {},
   "outputs": [],
   "source": [
    "import math\n",
    "from copy import deepcopy\n",
    "from itertools import product\n",
    "\n",
    "import numpy as np\n",
    "import torch\n",
    "import torch.nn as nn\n",
    "from botorch.utils.multi_objective import infer_reference_point, pareto\n",
    "from botorch.utils.multi_objective.hypervolume import Hypervolume\n",
    "from rdkit import Chem, DataStructs\n",
    "from scipy.spatial.distance import cdist\n",
    "from sklearn.cluster import KMeans\n",
    "\n",
    "# Should be calculated per preference\n",
    "def compute_diverse_top_k(smiles, rewards, k, thresh=0.7):\n",
    "    # mols is a list of (reward, mol)\n",
    "    mols = []\n",
    "    for i in range(len(smiles)):\n",
    "        mols.append([rewards[i], smiles[i]])\n",
    "    mols = sorted(mols, reverse=True)\n",
    "    modes = [mols[0]]\n",
    "    mode_fps = [Chem.RDKFingerprint(mols[0][1])]\n",
    "    for i in range(1, len(mols)):\n",
    "        fp = Chem.RDKFingerprint(mols[i][1])\n",
    "        sim = DataStructs.BulkTanimotoSimilarity(fp, mode_fps)\n",
    "        if max(sim) < thresh:\n",
    "            modes.append(mols[i])\n",
    "            mode_fps.append(fp)\n",
    "        if len(modes) >= k:\n",
    "            # last_idx = i\n",
    "            break\n",
    "    return np.mean([i[0] for i in modes])  # return sim\n",
    "\n",
    "compute_diverse_top_k(df.smi.to_list(), df.r.to_list(), 10, thresh=0.7)"
   ]
  },
  {
   "cell_type": "code",
   "execution_count": 78,
   "metadata": {},
   "outputs": [],
   "source": [
    "smiles = df[\"smi\"].tolist()\n",
    "rewards = df[\"r\"].tolist()\n",
    "\n",
    "mols = []\n",
    "for i in range(len(smiles)):\n",
    "    mols.append([rewards[i], smiles[i]])\n",
    "# mols = sorted(mols, key=lambda m: m[0], reverse=True)\n",
    "# modes = [mols[0]]\n",
    "# mode_fps = [Chem.RDKFingerprint(mols[0][1])]"
   ]
  },
  {
   "cell_type": "code",
   "execution_count": 81,
   "metadata": {},
   "outputs": [],
   "source": [
    "mols = sorted(mols, key=lambda m: m[0], reverse=True)"
   ]
  },
  {
   "cell_type": "code",
   "execution_count": 83,
   "metadata": {},
   "outputs": [],
   "source": [
    "modes = [mols[0]]"
   ]
  },
  {
   "cell_type": "code",
   "execution_count": 84,
   "metadata": {},
   "outputs": [
    {
     "data": {
      "text/plain": [
       "'[NH3+]CC1CC(c2nc3c(c(=O)[nH]2)NC(N2CCN(c4cc(C5CC(N6CCOCC6)CN5)c[nH]4)CC2)CN3)C([n+]2cccc(O)c2)O1'"
      ]
     },
     "execution_count": 84,
     "metadata": {},
     "output_type": "execute_result"
    }
   ],
   "source": [
    "mols[0][1]"
   ]
  },
  {
   "cell_type": "code",
   "execution_count": 86,
   "metadata": {},
   "outputs": [
    {
     "data": {
      "text/plain": [
       "'[NH3+]CC1CC(c2nc3c(c(=O)[nH]2)NC(N2CCN(c4cc(C5CC(N6CCOCC6)CN5)c[nH]4)CC2)CN3)C([n+]2cccc(O)c2)O1'"
      ]
     },
     "execution_count": 86,
     "metadata": {},
     "output_type": "execute_result"
    }
   ],
   "source": [
    "mols[0][1]"
   ]
  },
  {
   "cell_type": "code",
   "execution_count": 91,
   "metadata": {},
   "outputs": [
    {
     "data": {
      "text/plain": [
       "<rdkit.DataStructs.cDataStructs.ExplicitBitVect at 0x7f529a228040>"
      ]
     },
     "execution_count": 91,
     "metadata": {},
     "output_type": "execute_result"
    }
   ],
   "source": [
    "smile = mols[0][1]\n",
    "molecule = Chem.MolFromSmiles(smile)\n",
    "Chem.RDKFingerprint(molecule)\n",
    "\n",
    "fp = Chem.RDKFingerprint(mols[i][1])\n",
    "sim = DataStructs.BulkTanimotoSimilarity(fp, mode_fps)"
   ]
  },
  {
   "cell_type": "code",
   "execution_count": 85,
   "metadata": {},
   "outputs": [
    {
     "ename": "ArgumentError",
     "evalue": "Python argument types in\n    rdkit.Chem.rdmolops.RDKFingerprint(str)\ndid not match C++ signature:\n    RDKFingerprint(RDKit::ROMol mol, unsigned int minPath=1, unsigned int maxPath=7, unsigned int fpSize=2048, unsigned int nBitsPerHash=2, bool useHs=True, double tgtDensity=0.0, unsigned int minSize=128, bool branchedPaths=True, bool useBondOrder=True, boost::python::api::object atomInvariants=0, boost::python::api::object fromAtoms=0, boost::python::api::object atomBits=None, boost::python::api::object bitInfo=None)",
     "output_type": "error",
     "traceback": [
      "\u001b[0;31m---------------------------------------------------------------------------\u001b[0m",
      "\u001b[0;31mArgumentError\u001b[0m                             Traceback (most recent call last)",
      "Cell \u001b[0;32mIn[85], line 1\u001b[0m\n\u001b[0;32m----> 1\u001b[0m mode_fps \u001b[39m=\u001b[39m [Chem\u001b[39m.\u001b[39;49mRDKFingerprint(mols[\u001b[39m0\u001b[39;49m][\u001b[39m1\u001b[39;49m])]\n",
      "\u001b[0;31mArgumentError\u001b[0m: Python argument types in\n    rdkit.Chem.rdmolops.RDKFingerprint(str)\ndid not match C++ signature:\n    RDKFingerprint(RDKit::ROMol mol, unsigned int minPath=1, unsigned int maxPath=7, unsigned int fpSize=2048, unsigned int nBitsPerHash=2, bool useHs=True, double tgtDensity=0.0, unsigned int minSize=128, bool branchedPaths=True, bool useBondOrder=True, boost::python::api::object atomInvariants=0, boost::python::api::object fromAtoms=0, boost::python::api::object atomBits=None, boost::python::api::object bitInfo=None)"
     ]
    }
   ],
   "source": [
    "mode_fps = [Chem.RDKFingerprint(mols[0][1])]"
   ]
  },
  {
   "cell_type": "code",
   "execution_count": 72,
   "metadata": {},
   "outputs": [
    {
     "ename": "ArgumentError",
     "evalue": "Python argument types in\n    rdkit.Chem.rdmolops.RDKFingerprint(str)\ndid not match C++ signature:\n    RDKFingerprint(RDKit::ROMol mol, unsigned int minPath=1, unsigned int maxPath=7, unsigned int fpSize=2048, unsigned int nBitsPerHash=2, bool useHs=True, double tgtDensity=0.0, unsigned int minSize=128, bool branchedPaths=True, bool useBondOrder=True, boost::python::api::object atomInvariants=0, boost::python::api::object fromAtoms=0, boost::python::api::object atomBits=None, boost::python::api::object bitInfo=None)",
     "output_type": "error",
     "traceback": [
      "\u001b[0;31m---------------------------------------------------------------------------\u001b[0m",
      "\u001b[0;31mArgumentError\u001b[0m                             Traceback (most recent call last)",
      "Cell \u001b[0;32mIn[72], line 1\u001b[0m\n\u001b[0;32m----> 1\u001b[0m compute_diverse_top_k(df\u001b[39m.\u001b[39;49msmi\u001b[39m.\u001b[39;49mto_list(), df\u001b[39m.\u001b[39;49mr\u001b[39m.\u001b[39;49mto_list(), \u001b[39m10\u001b[39;49m, thresh\u001b[39m=\u001b[39;49m\u001b[39m0.7\u001b[39;49m)\n",
      "Cell \u001b[0;32mIn[71], line 22\u001b[0m, in \u001b[0;36mcompute_diverse_top_k\u001b[0;34m(smiles, rewards, k, thresh)\u001b[0m\n\u001b[1;32m     20\u001b[0m mols \u001b[39m=\u001b[39m \u001b[39msorted\u001b[39m(mols, reverse\u001b[39m=\u001b[39m\u001b[39mTrue\u001b[39;00m)\n\u001b[1;32m     21\u001b[0m modes \u001b[39m=\u001b[39m [mols[\u001b[39m0\u001b[39m]]\n\u001b[0;32m---> 22\u001b[0m mode_fps \u001b[39m=\u001b[39m [Chem\u001b[39m.\u001b[39;49mRDKFingerprint(mols[\u001b[39m0\u001b[39;49m][\u001b[39m1\u001b[39;49m])]\n\u001b[1;32m     23\u001b[0m \u001b[39mfor\u001b[39;00m i \u001b[39min\u001b[39;00m \u001b[39mrange\u001b[39m(\u001b[39m1\u001b[39m, \u001b[39mlen\u001b[39m(mols)):\n\u001b[1;32m     24\u001b[0m     fp \u001b[39m=\u001b[39m Chem\u001b[39m.\u001b[39mRDKFingerprint(mols[i][\u001b[39m1\u001b[39m])\n",
      "\u001b[0;31mArgumentError\u001b[0m: Python argument types in\n    rdkit.Chem.rdmolops.RDKFingerprint(str)\ndid not match C++ signature:\n    RDKFingerprint(RDKit::ROMol mol, unsigned int minPath=1, unsigned int maxPath=7, unsigned int fpSize=2048, unsigned int nBitsPerHash=2, bool useHs=True, double tgtDensity=0.0, unsigned int minSize=128, bool branchedPaths=True, bool useBondOrder=True, boost::python::api::object atomInvariants=0, boost::python::api::object fromAtoms=0, boost::python::api::object atomBits=None, boost::python::api::object bitInfo=None)"
     ]
    }
   ],
   "source": [
    "def compute_diverse_top_k(smiles, rewards, k, thresh=0.7):\n",
    "    # mols is a list of (reward, mol)\n",
    "    mols = []\n",
    "    for i in range(len(smiles)):\n",
    "        mols.append([rewards[i].item(), smiles[i]])\n",
    "    mols = sorted(mols, key=lambda m: m[0], reverse=True)\n",
    "    modes = [mols[0]]\n",
    "    mode_fps = [Chem.RDKFingerprint(mols[0][1])]\n",
    "    for i in range(1, len(mols)):\n",
    "        fp = Chem.RDKFingerprint(mols[i][1])\n",
    "        sim = DataStructs.BulkTanimotoSimilarity(fp, mode_fps)\n",
    "        if max(sim) < thresh:\n",
    "            modes.append(mols[i])\n",
    "            mode_fps.append(fp)\n",
    "        if len(modes) >= k:\n",
    "            # last_idx = i\n",
    "            break\n",
    "    return np.mean([i[0] for i in modes])  # return sim"
   ]
  },
  {
   "cell_type": "code",
   "execution_count": 1,
   "metadata": {},
   "outputs": [],
   "source": [
    "import sqlite3\n",
    "\n",
    "def read_db_data(*db_paths: str) -> list:\n",
    "    \"\"\"\n",
    "    Reads all data from the `results` table of multiple SQLite databases.\n",
    "\n",
    "    Parameters\n",
    "    ----------\n",
    "    *db_paths: str\n",
    "        The sqlite3 database paths.\n",
    "\n",
    "    Returns\n",
    "    -------\n",
    "    list\n",
    "        A combined list of tuples containing rows from the `results` table \n",
    "        from all provided databases. Returns an empty list if none of the \n",
    "        tables exist or other errors.\n",
    "    \"\"\"\n",
    "    combined_data = []\n",
    "\n",
    "    for db_path in db_paths:\n",
    "        conn = sqlite3.connect(db_path)\n",
    "        cur = conn.cursor()\n",
    "        \n",
    "        try:\n",
    "            cur.execute(\"SELECT * FROM results\")\n",
    "            data = cur.fetchall()\n",
    "            combined_data.extend(data)\n",
    "        except sqlite3.OperationalError as e:\n",
    "            if \"no such table: results\" in str(e):\n",
    "                print(f\"The table 'results' does not exist in the database at path: {db_path}\")\n",
    "            else:\n",
    "                raise e\n",
    "        finally:\n",
    "            cur.close()\n",
    "            conn.close()\n",
    "    \n",
    "    return combined_data"
   ]
  },
  {
   "cell_type": "code",
   "execution_count": null,
   "metadata": {},
   "outputs": [],
   "source": [
    "   # Step 1: Identify all .db files in the directory\n",
    "    db_files = glob.glob(os.path.join(folder_path, \"*.db\"))"
   ]
  },
  {
   "cell_type": "code",
   "execution_count": 2,
   "metadata": {},
   "outputs": [
    {
     "name": "stdout",
     "output_type": "stream",
     "text": [
      "[('NS(=O)(=O)NCC(=O)O', 0.08959098160266876, 0.08959098905324936, 6.038919925689697), ('OC(F)(F)F', 0.07960197329521179, 0.0796019658446312, 29.778169631958008), ('CC(C)(C)c1c(CS)nc(S(=O)(=O)O)nc1C1C(C(=N)N)CC(c2ccncn2)N1c1nc2c(c(=O)[nH]1)NC(C1CCOCC1)CN2', 0.16765519976615906, 0.16765519976615906, 46.8006706237793), ('CC(O)C1CCN(C(=O)[O-])CC1C(=O)NO', 0.2936750054359436, 0.2936750054359436, 46.84848403930664), ('N=C(N)Br', 9.99999901978299e-05, 9.999999747378752e-05, 62.91029739379883), ('CC(=O)NC(C)=O', 0.04960143193602562, 0.04960142821073532, 59.400081634521484), ('O=C(O)C(=O)O', 9.99999901978299e-05, 9.999999747378752e-05, 28.886520385742188), ('CN(C)c1ccn(P(=O)([O-])O)c(=O)n1', 0.259971559047699, 0.259971559047699, 25.0684871673584), ('NS(=O)(=O)[N+](=O)[O-]', 0.007436044048517942, 0.0074360426515340805, 50.54048156738281), ('CC(=O)NCC1CCC(c2cc3[nH]c4nc(=O)[nH]c(=O)c-4nc3cc2S)N1c1cc(-c2cccc(C=CN3CCN(I)CC3)n2)ccn1', 0.3991965651512146, 0.3991965353488922, 45.961151123046875), ('CC(C)(C)C1CC(O)C(O)C(CON2CCN(c3nc4c(ncn4C4CCOC4)c(=O)[nH]3)CC2)C1c1c[nH]c2ccccc12', 0.5866639614105225, 0.5866639614105225, 26.781137466430664), ('O=C(S)N[NH+]1CCOCC1', 0.09148351103067398, 0.09148350358009338, 11.282960891723633), ('C=CN1C=CCC(C2CC(C(C)=O)C(c3ccc(C(=O)NCP(=O)(O)O)s3)C(c3cccnc3P(=O)([O-])O)C2)=C1', 0.44558438658714294, 0.44558435678482056, 41.790157318115234), ('O=C(NO)c1nc(-n2nc(-c3cccc(C4CCCCC4)c3)c(Br)c2C2CCCC2)c(S)c([N+](=O)[O-])n1', 0.13765770196914673, 0.13765770196914673, 45.28425216674805), ('CC(=O)N1CCN(S(N)(=O)=O)CC1', 0.2050224095582962, 0.2050224244594574, 6.389380931854248), ('Cc1csc(CNC2CCN(C3CCN(Cl)CC3Br)CC2c2cn(S(=O)(=O)O)c(=O)[nH]c2=O)n1', 0.4480781555175781, 0.4480781555175781, 44.92085266113281), ('CC(=O)NCN1C(C2CCC(c3ncnc4[nH]cnc34)C(P(=O)([O-])O)C2C2CNc3nc(-c4ccccc4)[nH]c(=O)c3N2)CC(N2CCOCC2)C1[PH](=O)O', 0.3094136118888855, 0.3094135820865631, 43.26238250732422), ('N#Cc1cc(C2CCN(c3ccccc3-c3nc(-c4nc(NC=O)cs4)cs3)CC2C=CCNC=O)cc2ccccc12', 0.4872129261493683, 0.4872129261493683, 36.23318862915039), ('CC(=Cc1c(I)c(C[NH3+])c(C=N)c(C(=O)NCC2CNc3nc[nH]c(=O)c3N2)c1C(F)(F)F)S(=O)(=O)[O-]', 0.43113210797309875, 0.43113210797309875, 3.9378771781921387), ('O=c1[nH]c(=O)n([SH](=O)=O)cc1C1CC1', 0.29225748777389526, 0.29225748777389526, 39.65414047241211), ('[NH3+]CC1=CN([NH+]2CCOCC2)C=CC1', 0.21796566247940063, 0.21796566247940063, 43.82377624511719), ('CN(C)N1CCN(C=N)CC1', 0.12982578575611115, 0.12982578575611115, 4.773457050323486), ('C[SH+]C1CC(c2ccncn2)C(C2C(I)OC(C=Cc3ccc(C4CCCCC4)s3)C2C2CCOC2)CO1', 0.333337664604187, 0.333337664604187, 32.903141021728516), ('II', 9.99999901978299e-05, 9.999999747378752e-05, 42.35385513305664), ('C1CN([NH+]2CCOCC2)CCO1', 0.11288364231586456, 0.11288364231586456, 22.27182388305664), ('O=c1[nH]c(=O)n(C2CNc3nc(P(=O)([O-])O)[nH]c(=O)c3N2)cc1[PH](=O)[O-]', 0.48301056027412415, 0.48301056027412415, 29.753494262695312), ('O=c1nc(COc2ccc(NCP(=O)(O)O)s2)ccn1-c1c[nH]c2ccccc12', 0.486562043428421, 0.486562043428421, 25.38104248046875), ('CC(=O)NCc1nc2c(ncn2N2CCN(c3cnc(-c4nc5[nH]cnc5c(=O)[nH]4)c(C4CN(CS)CCC4CO)c3)CC2)c(=O)[nH]1', 0.38487181067466736, 0.38487181067466736, 37.873741149902344), ('[NH3+]CC1CC(c2nc3c(c(=O)[nH]2)NC(N2CCN(c4cc(C5CC(N6CCOCC6)CN5)c[nH]4)CC2)CN3)C([n+]2cccc(O)c2)O1', 0.7314630746841431, 0.7314630746841431, 41.344730377197266), ('Nc1c[nH]c2ccccc12', 0.2444675862789154, 0.2444676160812378, 52.65956115722656), ('CC(C)(O)S(N)(=O)=O', 0.05495409667491913, 0.05495409667491913, 56.283206939697266), ('CC(=CC=C[PH](=O)[O-])P(=O)(O)O', 0.1285439282655716, 0.1285439133644104, 18.36666488647461), ('N=C(N)C1OC(CS)C([PH](=O)O)C(S)C1N1CCOCC1', 0.19009333848953247, 0.19009333848953247, 2.3043456077575684), ('NCC1C(CNc2ncnc3c2ncn3C(=O)O)CCC(COI)C1c1nc2c(c(=O)[nH]1)NC(S(=O)(=O)[O-])CN2', 0.5632273554801941, 0.5632273554801941, 26.37125587463379), ('CC(=O)N1C(C)CC([PH](=O)[O-])C1I', 0.12716050446033478, 0.12716050446033478, 53.693912506103516), ('CC(=CP(=O)([O-])O)c1ccc(N2CCN(c3ccc[nH+]c3)CC2)c(-n2c3nc(=O)[nH]c(=O)c-3nc3cc(C4CNc5nc[nH]c(=O)c5N4)c(O)cc32)c1C#N', 0.006644083186984062, 0.006644082255661488, 48.923255920410156), ('O=CS', 9.99999901978299e-05, 9.999999747378752e-05, 50.77703857421875), ('CC(=O)c1nc(-c2c[nH]c3ccccc23)cs1', 0.385109543800354, 0.385109543800354, 5.056632041931152), ('CC(=O)c1nc2c(c(=O)[nH]1)NC(n1cnc3c(=O)[nH]c(-c4cc5nc6c(=O)[nH]c(=O)nc-6n(C6CN(C=C(C)C)CCC6S(=O)(=O)[O-])c5cc4P(=O)(O)O)nc31)CN2', 0.038272593170404434, 0.038272593170404434, 22.5333251953125), ('CC(=O)Nc1ccc(C(C)=O)s1', 0.2326420098543167, 0.23264199495315552, 29.611122131347656), ('C[SH+]C1C(n2ccc(-c3cc(C=O)c[nH]3)nc2=O)OC(NCN2CCOCC2)C(S(=O)(=O)O)C1S(=O)(=O)[O-]', 0.4232148230075836, 0.4232148230075836, 61.87704849243164), ('N#CN1CCN(C(=N)N)CC1', 0.1862373948097229, 0.1862373948097229, 44.11415100097656), ('Ic1c[nH]c2ccccc12', 0.25946351885795593, 0.25946351885795593, 46.381202697753906), ('CC(=O)NCC1CN([N+](=O)[O-])CCC1c1cc(C(F)(F)F)cc2ccccc12', 0.5142319798469543, 0.5142319798469543, 43.68998718261719), ('SCC1CC1', 0.004532764200121164, 0.004532760940492153, 53.636863708496094), ('CC(=O)NC1CNc2nc(Br)[nH]c(=O)c2N1', 0.446926087141037, 0.4469261169433594, 51.26344680786133), ('CC(=O)NCN(C)C', 0.07119137793779373, 0.07119137048721313, 25.279863357543945), ('CC(=Cn1ccc(C(=O)NO)nc1=O)c1c(C(=N)N)cc(S(=O)(=O)[O-])c(C[NH3+])c1-c1nc(C2CCOC2)cs1', 0.3809553384780884, 0.3809553384780884, 27.353689193725586), ('CC(=O)NCc1cc(-c2ccccc2S(=O)(=O)[O-])c(CNC2CCOC2N2C=CCC(Cl)=C2)cc1C(C)O', 0.46216756105422974, 0.46216756105422974, 50.6369514465332), ('COn1c2nc(=O)[nH]c(=O)c-2nc2cc(C3CCNC3C(=N)N)c(C3OCC([PH](=O)[O-])C3c3cnc(CNC(C)=O)nc3-c3ccn[nH]3)cc21', 0.07511909306049347, 0.07511909306049347, 57.00553512573242), ('CC(C)=CN1CCCC1C1=CC(C2C(C[NH3+])C(C(=O)O)CC(C3CCNC3)C2CS)C(P(=O)([O-])O)CC1', 0.4124367833137512, 0.4124367833137512, 57.03456115722656), ('O=C(NO)[PH](=O)O', 0.06689697504043579, 0.06689697504043579, 1.4546698331832886), ('Nc1cn(CN[PH](=O)[O-])c(=O)[nH]c1=O', 0.30133259296417236, 0.30133259296417236, 49.9350700378418), ('N=C(N)c1nc(C2CC2)nc(-c2nc(C(=O)[O-])nc(C3CCNC3)c2C(=O)O)c1N1CCN(C(=O)O)CC1', 0.13969537615776062, 0.13969537615776062, 30.859119415283203), ('FN1C=CCC(C(F)(F)F)=C1', 0.28211838006973267, 0.28211838006973267, 26.529434204101562), ('CC(O)c1nc(-c2nc(S)nc(-c3ccc(-c4cccc5ccccc45)cc3)c2P(=O)(O)O)c(C=O)c(C(C)(C)C)n1', 0.038454774767160416, 0.03845477104187012, 31.272661209106445), ('O=CNCN1C(NC(=O)[PH](=O)[O-])CC(C2CCC(S(=O)(=O)[O-])N2N2CCOCC2)C1C=CC1C=CCCC1', 0.3837832510471344, 0.3837832510471344, 11.561944961547852), ('O=c1[nH]cnc2c1NC(c1cc(-c3c(NCC4C=C(C5=CNC=CC5)CCC4)ccc(C4CCCC4)c3C3CCCOC3)ccc1[PH](=O)O)CN2', 0.20049118995666504, 0.20049118995666504, 17.31491470336914), ('CC(O)S(=O)(=O)[O-]', 0.04248635098338127, 0.04248634725809097, 39.59745407104492), ('CC(C)O', 9.99999901978299e-05, 9.999999747378752e-05, 1.008424997329712), ('CC(=O)NCc1cc(-c2c(C#N)cc(O)c(-c3c(N4CCNCC4)cnn3P(=O)(O)O)c2CO)ccn1', 0.3064906597137451, 0.3064906597137451, 30.099000930786133), ('O=C([O-])C(F)(F)F', 0.04825654625892639, 0.04825655370950699, 20.04266357421875), ('CC(C)=CC1CCN(c2cc(F)c(N3C=CCC(C(C)(C)C)=C3)c(C[NH3+])c2N(C)C)CC1C1CC1', 0.41415292024612427, 0.41415292024612427, 8.630016326904297), ('CC(C)F', 0.017512382939457893, 0.017512381076812744, 63.87704849243164), ('O=[N+]([O-])S', 9.99999901978299e-05, 9.999999747378752e-05, 21.131999969482422), ('CC(C)(O)c1csc(N)n1', 0.12479331344366074, 0.12479332089424133, 41.08647537231445), ('CC(=O)NCc1n[nH]c(P(=O)(O)O)c1-c1ccc(C2C(c3nc4c(c(=O)[nH]3)NC([NH+]3CCOCC3)CN4)CC(C(C)C)N2N(C)C)s1', 0.30380815267562866, 0.30380815267562866, 34.5551643371582), ('O=[PH]([O-])S', 9.99999901978299e-05, 9.999999747378752e-05, 46.86326599121094), ('CC1=CN(C(C)=CN)C=CC1', 0.20638136565685272, 0.20638138055801392, 11.203910827636719), ('O=[PH]([O-])c1cc([PH](=O)O)c2ccccc2c1', 0.3525834083557129, 0.3525834083557129, 10.81276798248291), ('O=c1nc(NCc2ccc(CC[PH](=O)O)s2)ccn1Br', 0.3456895053386688, 0.3456895053386688, 58.28984832763672), ('N#CP(=O)(O)O', 0.013316863216459751, 0.013316862285137177, 0.00278202211484313), ('COC1CC(N)C(c2c(Cl)ncnc2-c2ccn(-n3ccc(COP(=O)([O-])O)nc3=O)c(=O)n2)CO1', 0.5082635283470154, 0.5082635283470154, 20.558988571166992), ('CC(C)C1CCC(c2nc(-c3ccnc(C[NH3+])c3O)cs2)=CC1COc1ccc([SH](=O)=O)s1', 0.5724005103111267, 0.5724005103111267, 39.89286422729492), ('CC(C)C(=O)O', 0.027287235483527184, 0.027287233620882034, 29.530710220336914), ('N=C(N)C(F)(F)F', 0.05030808597803116, 0.05030808970332146, 28.3197078704834), ('N=C(N)c1nc2c(ncn2C(=N)N)c(=O)[nH]1', 0.35147058963775635, 0.35147058963775635, 59.69936752319336), ('Cc1ccn(-c2c(P(=O)(O)O)cc(-c3c[nH]c4ccccc34)nc2-c2cc(S)c(C3CCCC3)c(C(=N)N)n2)c(=O)n1', 0.06308651715517044, 0.06308652460575104, 47.6679573059082), ('O=CNC1OC([SH](=O)=O)C(n2cccnc2=O)C1C1=CC(S(=O)(=O)O)C(COC=CCl)CC1', 0.3879604935646057, 0.3879605233669281, 6.609020233154297), ('CC(C)(C)NC(=O)[PH](=O)[O-]', 0.1002303808927536, 0.1002303808927536, 13.740217208862305), ('CC1C([PH](=O)[O-])C(C2CCN(NC(=O)c3ccc([N+](=O)[O-])s3)C2P(=O)(O)O)OC1S(=O)(=O)[O-]', 0.42104560136795044, 0.42104560136795044, 37.783199310302734), ('O=C(O)NC(=O)N1CCOCC1', 0.2607302665710449, 0.26073020696640015, 51.39918518066406), ('CC(C)(O)c1c(C=O)c(-[n+]2cccc([N+](=O)[O-])c2)c([PH](=O)[O-])c([PH](=O)[O-])c1C(C)(C)O', 0.29258644580841064, 0.2925865054130554, 3.6485748291015625), ('N=C(N)C1OC(O)C(CO[SH](=O)=O)C(N)C1c1c[nH]c(-c2nc3c(ncn3N3CCOCC3)c(=O)[nH]2)c1', 0.51503986120224, 0.51503986120224, 10.752225875854492), ('CC(C)(C)C(=O)NCBr', 0.10785337537527084, 0.10785336792469025, 43.59512710571289), ('CC(=O)Nc1ccn(-c2nc(O)nc(NCCNC(=O)C3CNc4nc([PH](=O)[O-])[nH]c(=O)c4N3)c2P(=O)(O)O)c(=O)n1', 0.5227031707763672, 0.5227031707763672, 7.703517913818359), ('CC(=O)NCC1CN([NH+]2CCOCC2)CCC1c1nc2c(ncn2CNC(C)=O)c(=O)[nH]1', 0.5009210705757141, 0.5009210705757141, 10.34434986114502), ('CC(=O)NS(=O)(=O)O', 0.020627954974770546, 0.020627954974770546, 40.609004974365234), ('CC(=O)C1C([n+]2ccccc2)C(C)C([N+](=O)[O-])C(c2ccn(NC(=O)Cl)c(=O)n2)C1[PH](=O)O', 0.4010604918003082, 0.4010604918003082, 0.2245692014694214), ('NCc1nc(-c2c(CON3CCCC3[N+](=O)[O-])ccc(C3CCCCC3)c2-c2ncccc2Cl)cs1', 0.5050559043884277, 0.5050559043884277, 29.362390518188477), ('O=CCNN1CCOCC1', 0.11270961910486221, 0.11270963400602341, 21.17346954345703), ('O=C(NP(=O)([O-])O)P(=O)([O-])O', 0.09034419059753418, 0.09034418314695358, 31.39671516418457), ('CC(C)=CC1C=C(F)CCC1C1CC1', 0.26909178495407104, 0.26909178495407104, 36.64025115966797), ('O=[N+]([O-])[NH+]1CCOCC1', 0.08217999339103699, 0.08217998594045639, 48.95066452026367), ('CCC1COCC1C1CN(C2OC(C=N)C(C(C)C)C2NC(=O)C=O)CCC1Br', 0.3995237648487091, 0.3995237648487091, 33.75970458984375), ('CC(C)[PH](=O)[O-]', 0.025662066414952278, 0.025662068277597427, 29.678598403930664), ('CC(=O)NS(N)(=O)=O', 0.032497111707925797, 0.032497111707925797, 54.104957580566406), ('O=C([O-])c1cc(N2CCOCC2)c[nH]1', 0.36464107036590576, 0.36464107036590576, 42.02455520629883), ('CC(C)(O)c1cc2c(cc1C(F)(F)F)nc1c(=O)[nH]c(=O)nc-1n2-c1c[nH]c2ccccc12', 0.4736580550670624, 0.4736580550670624, 13.941299438476562), ('CC(C)S(=O)(=O)[O-]', 0.05061561241745949, 0.05061560869216919, 2.1996421813964844), ('N#CC(F)(F)F', 0.05975525081157684, 0.059755247086286545, 24.633607864379883), ('CC(=O)NCC=CC(=N)N', 0.11586189270019531, 0.11586189270019531, 60.38755416870117), ('CC(C)(O)Br', 0.009049047715961933, 0.009049046784639359, 12.34886646270752), ('CC1C(CS)CC(C2CCCN(c3csc(N4CCN(N5C=CCC(C(=O)O)=C5)CC4)n3)C2)N1C=N', 0.5723642706871033, 0.5723642706871033, 21.788066864013672), ('S[NH+]1CCOCC1', 9.99999901978299e-05, 9.999999747378752e-05, 8.117558479309082), ('O=c1[nH]c(=O)n(-c2nc3c(ncn3[PH](=O)[O-])c(=O)[nH]2)cc1-c1cc(C2CC(C3C=CCCC3)N(C3CC3)C2)c(-n2cnc3c(=O)[nH]cnc32)c(C2CCCN2)c1', 0.08406944572925568, 0.08406943827867508, 34.63655090332031), ('CN1C=CCC(n2cc(-c3nc4c(c(=O)[nH]3)NC(C(=O)[O-])CN4)c(=O)[nH]c2=O)=C1', 0.6270331740379333, 0.6270331740379333, 49.85649490356445), ('CC(=O)F', 0.02142324112355709, 0.02142324112355709, 28.598466873168945), ('O=[PH]([O-])[SH](=O)=O', 0.010367069393396378, 0.010367071256041527, 38.74757766723633), ('CC(=O)NCC(C)(C)C', 0.0877239853143692, 0.0877239927649498, 40.07826232910156), ('C[SH+]c1c(O)c(-c2ccc[n+](-c3cccs3)c2)c(C(C)O)c(C2CCCO2)c1-c1ccccc1C1CCCOC1', 0.3824867308139801, 0.3824867010116577, 37.97963333129883), ('CC(=O)NCN(C)C', 0.07119137793779373, 0.07119137793779373, 29.393638610839844), ('N=CN', 9.99999901978299e-05, 9.999999747378752e-05, 43.54191207885742), ('N=C[N+](=O)[O-]', 9.99999901978299e-05, 9.999999747378752e-05, 29.646390914916992), ('O=S(=O)(O)c1c[nH]c2ccccc12', 0.2881608009338379, 0.2881608009338379, 46.93503952026367), ('N=C(N)P(=O)(O)O', 0.04921531304717064, 0.04921531677246094, 45.4547119140625), ('O=C(O)c1c[nH]c2ccccc12', 0.29450148344039917, 0.29450148344039917, 21.086868286132812), ('CC(=O)NCC1OC(c2cc([PH](=O)O)ccc2C(=O)[O-])C(NC(C)=O)C1CNn1cnc2c(C)ncnc21', 0.4206673502922058, 0.4206673502922058, 26.65716552734375), ('CC(C)=Cc1c([PH](=O)[O-])c(C(=N)N)c(C=Cc2c[nH]c3ccccc23)c(P(=O)([O-])O)c1[PH](=O)O', 0.3267298638820648, 0.32672983407974243, 52.3751335144043), ('CC(C)(C)c1c[nH]c(CNC2=CN(C3C(C(=O)NO)OC(Cl)C3[SH](=O)=O)C=CC2)c1', 0.5135283470153809, 0.5135283470153809, 6.760251522064209), ('CC(C)(O)[N+](=O)[O-]', 0.03931248188018799, 0.03931247815489769, 38.2266845703125), ('CNc1nc(C=C[PH](=O)O)nc(C2CCNCC2C2CCOC2)c1-c1nc(N2CCN(C(=N)N)CC2)cs1', 0.4700852334499359, 0.4700852632522583, 3.4373819828033447), ('CC(=O)c1ccc[n+](-n2nc(-c3cc(C4=CNC=CC4)c(-c4ncncc4[PH](=O)[O-])cn3)c([PH](=O)O)c2-n2cccn2)c1', 0.0700206309556961, 0.0700206309556961, 5.936173915863037), ('O=[PH](O)[PH](=O)O', 0.0006516090361401439, 0.0006516091525554657, 31.83585548400879), ('NS(=O)(=O)CNc1ccc[n+](-c2ccc(C3=CC(c4ncnc5c4ncn5P(=O)([O-])O)C([PH](=O)[O-])CC3)s2)c1', 0.5266420245170593, 0.5266420245170593, 19.71442222595215), ('CC(=O)NCc1nccc(C2C(C3CCCN3)C(C3CCN(F)CC3)CC(c3ccn[nH]3)C2S(N)(=O)=O)c1C(=N)N', 0.3456729054450989, 0.34567293524742126, 57.95378875732422), ('CC(C)(O)C=CI', 0.008126302622258663, 0.008126303553581238, 40.97939682006836), ('CC(=CC1CCN([SH](=O)=O)CC1)N1CCN(c2nc(F)c(C(C)(C)O)c(C=N)c2C(=O)NO)CC1', 0.4632432460784912, 0.4632432460784912, 40.615440368652344), ('[NH3+]CN1C=CCC(C=Cc2ccn(C3OCCC(C=O)C3c3cc4c(cc3S)nc3c(=O)[nH]c(=O)nc-3n4N3CCOCC3)c(=O)n2)=C1', 0.37138596177101135, 0.37138596177101135, 54.79219055175781), ('C=CC=Cc1cc(N2CCN(C(C)C)CC2)c(-c2nc3c(c(=O)[nH]2)NC(C2CCCC2)CN3)c(N(C)C)c1C=C', 0.3092940151691437, 0.3092940151691437, 11.711395263671875), ('CC(C)(O)c1cc(C2C(C#N)CC(c3cc(C(=N)N)nc(C(=O)O)c3[NH+]3CCOCC3)N2C(=O)O)c2ccccc2c1', 0.4214942455291748, 0.4214942455291748, 14.876358985900879), ('C[SH+]CCBr', 0.004067739937454462, 0.004067739471793175, 33.55012512207031), ('CC(C)=CC=C(C)C1CC(C=O)N(O)C1P(=O)([O-])O', 0.2532920837402344, 0.2532920837402344, 27.45046043395996), ('N=C(N)c1c(C2=CNC=CC2)c(CCS)c(C2CCCC2)c(I)c1C1CNc2nc(N3CCOCC3)[nH]c(=O)c2N1', 0.15302781760692596, 0.15302780270576477, 40.98729705810547), ('Cc1c([PH](=O)[O-])nc(Br)nc1S(=O)(=O)O', 0.2625052332878113, 0.2625052332878113, 63.82666778564453), ('O=C([O-])C1OC(P(=O)([O-])O)C(C(=O)NS(=O)(=O)O)C(P(=O)([O-])O)C1S(=O)(=O)O', 0.24154333770275116, 0.24154332280158997, 8.10487174987793), ('CC(C)(C)C=N', 0.00817035511136055, 0.00817035511136055, 61.03213882446289), ('C[SH+]n1ccc(-c2cc3nc4c(=O)[nH]c(=O)nc-4n(CCc4ccc[nH+]c4)c3cc2-c2ccc([SH](=O)=O)c(C3CCCC3)c2N)nc1=O', 0.07695178687572479, 0.07695178687572479, 54.600486755371094), ('CC(C)C1C(c2c[nH]c3ccccc23)OC(CCBr)C1O', 0.40224489569664, 0.4022449254989624, 27.913000106811523), ('CC(=Cc1c(C(F)(F)F)ccc(-n2ccc(-c3nc4c(c(=O)[nH]3)NC(c3cc[nH]c(=O)n3)CN4)nc2=O)c1-n1cnc2c(=O)[nH]c([N+](=O)[O-])nc21)C(=O)O', 0.45164379477500916, 0.45164379477500916, 1.2055751085281372), ('N=C(N)S(=O)(=O)O', 0.03425608202815056, 0.03425608575344086, 34.800506591796875), ('C[SH+][N+](=O)[O-]', 9.99999901978299e-05, 9.999999747378752e-05, 39.23951721191406), ('c1ccccc1', 0.11609441041946411, 0.11609440296888351, 24.92720603942871), ('CC(=O)NCC1C(S)OC(C2=CN(P(=O)([O-])O)C=CC2)C1C=C(C)P(=O)([O-])O', 0.3835475742816925, 0.3835475444793701, 59.65971755981445), ('CC(=O)c1cc2nc3c(=O)[nH]c(=O)nc-3n(NC(=O)N3CCN([NH+]4CCOCC4)CC3)c2cc1O', 0.5081808567047119, 0.5081808567047119, 36.38884735107422), ('CC(C)Br', 0.009149862453341484, 0.009149862453341484, 60.81385040283203), ('CC(=O)NCc1c(C(=N)N)c([NH+]2CCOCC2)c(C(C)(C)C)c(-c2c(C(C)(C)O)ccnc2P(=O)([O-])O)c1C(F)(F)F', 0.24374854564666748, 0.24374854564666748, 7.10534143447876), ('NS(=O)(=O)S', 0.028702665120363235, 0.028702663257718086, 15.706157684326172), ('COC1=CN(C2C(C=CC(=N)N)CC(S)N2n2ccc(N3CCN(c4cccs4)CC3)nc2=O)C=CC1', 0.4738987386226654, 0.4738987386226654, 22.01146697998047), ('CC(C)=Cc1cc(-c2c(CO)c(C[NH3+])c(N(C)C)c(-[n+]3ccccc3)c2N2CCN(C#N)CC2)c[nH]1', 0.3244667947292328, 0.3244667947292328, 10.70073127746582), ('C[SH+]C=Cc1c(C[NH3+])c(S)nn1[PH](=O)[O-]', 0.20783843100070953, 0.20783844590187073, 7.563499927520752), ('Ic1c[nH]c2ccccc12', 0.2594635486602783, 0.2594635486602783, 61.75880813598633), ('CC(=O)c1cc2nc3c(=O)[nH]c(=O)nc-3n(C3C(CC[PH](=O)O)OC(N)C3c3ccc(P(=O)(O)O)s3)c2cc1CS', 0.2260666936635971, 0.22606664896011353, 11.062877655029297), ('CC(=O)Nc1cc(C2CCCC2)c2ccccc2c1', 0.48543232679367065, 0.48543232679367065, 12.080219268798828), ('CC(=O)NC=O', 0.04117566719651222, 0.04117567092180252, 16.483747482299805), ('N=C(N)C1CC1', 0.1338759809732437, 0.1338759958744049, 25.87373924255371), ('Cc1c(C2CC(I)C([NH+]3CCOCC3)CO2)c(-c2cn[nH]c2)cc(C2CCCOC2c2cc[nH]n2)c1P(=O)([O-])O', 0.35433369874954224, 0.3543337285518646, 40.12356185913086), ('N#Cc1nc(C2=CN([NH+]3CCOCC3)C=CC2)cs1', 0.4095264971256256, 0.4095264971256256, 8.257031440734863), ('NS(=O)(=O)S(N)(=O)=O', 0.022027727216482162, 0.02202772907912731, 3.828705310821533), ('CNC(=O)C(=N)N', 0.04525880143046379, 0.04525879770517349, 46.71565246582031), ('[NH3+]CC1OC(C2CCC(c3ncnc4[nH]cnc34)CC2)C(S(=O)(=O)O)C(c2nc([PH](=O)O)cs2)C1c1cccc(S(=O)(=O)O)c1', 0.3725927472114563, 0.3725927472114563, 3.067816972732544), ('CN(C)CCc1c(COn2cnc3c(=O)[nH]c(N)nc32)cccc1C1C(C#N)CCN1I', 0.5045758485794067, 0.5045758485794067, 51.41455078125), ('C[SH+]N1CCN([PH](=O)[O-])CC1', 0.11321025341749191, 0.11321025341749191, 35.95193862915039), ('O=[PH]([O-])C1CCCC1', 0.0686676874756813, 0.0686676874756813, 16.533641815185547), ('CC(=O)c1ncc(C=C(C)C2C=C(c3ccn(-n4ccc(N5CCOCC5)nc4=O)c(=O)n3)CCC2N)c(S(=O)(=O)[O-])n1', 0.5282076001167297, 0.5282076001167297, 27.89507484436035), ('O=C([O-])C(=O)NCCS', 0.05713958293199539, 0.05713958665728569, 35.38750076293945), ('O=C(O)c1c([PH](=O)[O-])c([SH](=O)=O)c(O)c(Br)c1C(F)(F)F', 0.31538283824920654, 0.31538286805152893, 61.7283821105957), ('N=CC1CN(C2C(C=O)OC(S(=O)(=O)O)C(c3c[nH]c4ccccc34)C2C(=O)O)CCC1c1ncnc2c1ncn2P(=O)([O-])O', 0.443642795085907, 0.443642795085907, 51.9134521484375), ('CC(C)=Cc1nc(C=C(C)C)c(-c2cc(C(C)C)c(C(=N)N)cc2Br)c(-c2cc(F)c3ccccc3c2)n1', 0.0559634268283844, 0.0559634305536747, 9.688767433166504), ('O=C(F)NCI', 0.028942056000232697, 0.028942054137587547, 46.56583023071289), ('CC(=O)NCC1CCOC1C1OC(C=C(C)C)C([PH](=O)[O-])C(N2CCN(C=N)CC2)C1n1ccc(C(=O)[O-])nc1=O', 0.40668177604675293, 0.40668177604675293, 25.38750457763672), ('CC(C)c1ccc(C(=O)NC2CN([PH](=O)[O-])CCC2N2C=CCC(n3cnc4c(C(C)(C)C)ncnc43)=C2)cc1C1=CCCCC1', 0.5356677770614624, 0.5356677770614624, 25.688594818115234), ('N=C(N)C1=CN([PH](=O)O)C=CC1', 0.22144146263599396, 0.22144147753715515, 58.71670913696289), ('CC(=O)NCC(=N)N', 0.07296889275312424, 0.07296890020370483, 13.979146957397461), ('N[n+]1cccc(O)c1', 0.08124243468046188, 0.08124243468046188, 23.06555938720703), ('NS(=O)(=O)c1c[nH]c(-c2c(-c3cc(-c4ccc[n+](N5CCCC5)c4)c4ccccc4c3)nc(C3CCOC3)nc2-c2ccccc2C2CC=CCC2)c1', 0.01912560500204563, 0.019125603139400482, 6.540919303894043), ('O=P([O-])(O)O', 0.01499515026807785, 0.014995152130723, 62.99001693725586), ('O=C(O)C1CCCCC1C1C(F)C(c2nc(S(=O)(=O)[O-])cs2)C(S(=O)(=O)O)C([N+](=O)[O-])C1CS', 0.32814472913742065, 0.32814475893974304, 48.12855911254883), ('O=P(O)(O)I', 0.006621182430535555, 0.006621182896196842, 21.056838989257812), ('N=CC1CC1', 0.12852226197719574, 0.12852224707603455, 48.243003845214844), ('O=P([O-])(O)C1CCCC1', 0.10069245845079422, 0.10069247335195541, 27.793561935424805), ('O=c1nc2n(C3CCC(c4c[nH]c(N5C=CCC(S)=C5)c4)O3)c3cc(C(F)(F)F)c(-c4cn[nH]c4-c4ncnc5c4ncn5-c4ccncn4)cc3nc-2c(=O)[nH]1', 0.012226278893649578, 0.012226277031004429, 56.985172271728516), ('CC(C)(C)Cl', 9.99999901978299e-05, 9.999999747378752e-05, 10.26313591003418), ('CN(C)CNN1C=CCC(C(=N)N)=C1', 0.2657901644706726, 0.2657901644706726, 47.9693717956543), ('CC(C)C1C(c2cc[nH]c(=O)n2)C(C2CC=CCC2)C(C2=CN(C3CCNCC3)C=CC2)C(C(C)(C)C)C1n1cnc2c(S)ncnc21', 0.27379170060157776, 0.27379170060157776, 50.071746826171875), ('O=CNCC(F)(F)F', 0.09477807581424713, 0.09477808326482773, 42.77006149291992), ('CC(C)=CS(N)(=O)=O', 0.04939473420381546, 0.04939473792910576, 31.397798538208008), ('CC(C)(O)N1CCOCC1', 0.080848827958107, 0.08084883540868759, 56.6180305480957), ('O=c1[nH]c(=O)n(S(=O)(=O)O)cc1-n1cc(P(=O)([O-])O)c(=O)[nH]c1=O', 0.3734982907772064, 0.3734982907772064, 3.367185354232788), ('CC(=O)NCC1CNc2nc(-c3ncnc4c3ncn4-c3ccc[n+](C4C(C[NH3+])OC(c5ccccc5)C4c4nc(-c5cccs5)cs4)c3)[nH]c(=O)c2N1', 0.5275135040283203, 0.5275135040283203, 45.235984802246094), ('N=C(N)n1cnc2c(S(=O)(=O)O)ncnc21', 0.33855313062667847, 0.33855313062667847, 21.042081832885742), ('CN(C)n1c2nc(=O)[nH]c(=O)c-2nc2cc(CS)c([NH+]3CCOCC3)cc21', 0.4135669469833374, 0.4135669469833374, 42.27699279785156), ('CC(=O)c1cc(CNC(=O)n2ccc(C(C)O)nc2=O)c2ccccc2c1', 0.5721896290779114, 0.5721896290779114, 6.038919925689697), ('O=P(O)(O)S', 9.99999901978299e-05, 9.999999747378752e-05, 29.778169631958008), ('CN1CCN(C(F)(F)F)CC1', 0.21133831143379211, 0.21133831143379211, 46.8006706237793), ('N#Cc1nc2c(c(=O)[nH]1)NC(c1nc(NC(=O)I)nc(CS)c1S(=O)(=O)O)CN2', 0.36999714374542236, 0.36999717354774475, 46.84848403930664), ('CC1=CN(CCCOC=Cc2c(Br)nc([SH](=O)=O)nc2C2CNc3nc[nH]c(=O)c3N2)C=CC1', 0.46082112193107605, 0.46082112193107605, 62.91029739379883), ('CC(C)(C)C(=N)N', 0.026524938642978668, 0.02652493678033352, 59.400081634521484), ('CCc1cc2c(cc1N1CCN(C=O)CC1)nc1c(=O)[nH]c(=O)nc-1n2-c1ccc[n+](C2CC(C[NH3+])C([PH](=O)O)N2C2CCCCC2)c1', 0.15662938356399536, 0.15662938356399536, 28.886520385742188), ('CC(=O)C=CCNC(C)=O', 0.11637252569198608, 0.11637254059314728, 25.0684871673584), ('CC(C)=CNCc1csc([PH](=O)O)n1', 0.2595348656177521, 0.2595348656177521, 50.54048156738281), ('O=C(Nn1nc(P(=O)(O)O)c(-c2cc(-c3ccc(S(=O)(=O)O)s3)cc3ccccc23)c1P(=O)(O)O)c1cc([PH](=O)O)c2ccccc2c1', 0.0867776870727539, 0.08677767962217331, 45.961151123046875), ('CC(C)=CC1CNc2nc(N(C)C)[nH]c(=O)c2N1', 0.4099701941013336, 0.4099701941013336, 26.781137466430664), ('O=[N+]([O-])c1cc(C2CN(C3COCCC3[PH](=O)O)CCC2c2cncnc2)cc(CO)c1OCC(F)(F)F', 0.3914804756641388, 0.3914804756641388, 11.282960891723633), ('CC(C)CNc1ncc(N2C(C3CC3)CC(C3COC(N)C3)C2c2cc(C(=N)N)n[nH]2)cn1', 0.4457816481590271, 0.4457816481590271, 41.790157318115234), ('CC(=O)n1nc(C(=N)N)c(F)c1-c1csc(C=N)n1', 0.3543876111507416, 0.35438764095306396, 45.28425216674805), ('CC(=O)C1CC(C2OC(C(=O)NCS)C(S(N)(=O)=O)C2C(=N)N)C(Cl)OC1I', 0.2921087443828583, 0.2921087443828583, 6.389380931854248), ('CN(C)C1CCN(C2CC([PH](=O)[O-])OC(C3CNc4nc(CNO)[nH]c(=O)c4N3)C2C2CC2)CC1C(=O)O', 0.46722328662872314, 0.46722325682640076, 44.92085266113281), ('O=C(O)[PH](=O)O', 0.0016498520271852612, 0.001649852842092514, 43.26238250732422), ('CC(C)(O)CCN1CCN(c2cc3c(cc2C(F)(F)F)nc2c(=O)[nH]c(=O)nc-2n3[N+](=O)[O-])CC1', 0.42956897616386414, 0.42956897616386414, 36.23318862915039), ('O=c1[nH]c(=O)n(F)cc1O', 0.17571356892585754, 0.17571356892585754, 3.9378771781921387), ('CC(=O)NCC1=CC(C(C)(C)O)C(C(=N)N)CC1', 0.29867592453956604, 0.29867592453956604, 39.65414047241211), ('O=[N+]([O-])[PH](=O)O', 9.99999901978299e-05, 9.999999747378752e-05, 43.82377624511719), ('N=C(N)N1CCN(O)CC1', 0.16630256175994873, 0.16630256175994873, 4.773457050323486), ('Nc1nc([PH](=O)[O-])cs1', 0.0749809592962265, 0.0749809592962265, 32.903141021728516), ('CC(=O)NCc1cc2c(cc1-n1nc(C3OCCCC3c3ccc4[nH]c5nc(=O)[nH]c(=O)c-5nc4c3)c(CS)c1N1C=CCC(C3CCNC3)=C1)nc1c(=O)[nH]c(=O)nc-1n2N', 0.038666676729917526, 0.038666676729917526, 42.35385513305664), ('CC(C)C(=N)N', 0.03514263406395912, 0.03514263033866882, 22.27182388305664), ('CC(=O)NCc1nc2c(ncn2S(=O)(=O)[O-])c(=O)[nH]1', 0.38634610176086426, 0.38634610176086426, 29.753494262695312), ('CC(=CN1CCCC1N)C1C(S)OC([PH](=O)O)C(C(=O)O)C1OCC[NH3+]', 0.25530973076820374, 0.25530973076820374, 25.38104248046875), ('O=CNCn1ccc(-c2c(S)cc(-c3c[nH]c(-c4cc(F)c5ccccc5c4)c3)c(Br)c2[PH](=O)[O-])nc1=O', 0.4616815745830536, 0.4616815745830536, 37.873741149902344), ('CC(=O)C[NH3+]', 9.99999901978299e-05, 9.999999747378752e-05, 41.344730377197266), ('CC(=O)NCCO[PH](=O)[O-]', 0.06978151202201843, 0.06978151947259903, 52.65956115722656), ('CC(C)=CC(=O)[O-]', 0.02985401451587677, 0.02985401637852192, 56.283206939697266), ('N=CC(=O)Nc1cc(COn2cc(C3C=C(C(=O)NCc4ncnc5[nH]cnc45)CCC3[N+](=O)[O-])c(=O)[nH]c2=O)c[nH]1', 0.6263593435287476, 0.6263593435287476, 18.36666488647461), ('II', 9.99999901978299e-05, 9.999999747378752e-05, 2.3043456077575684), ('O=c1nc(CNBr)ccn1-c1ccc(CCC2CCC(P(=O)([O-])O)CC2C2C=C(I)CCC2)s1', 0.4979248642921448, 0.4979248642921448, 26.37125587463379), ('CC(=O)NCOCF', 0.09080692380666733, 0.09080691635608673, 53.693912506103516), ('CC(C)=CN', 0.004097317811101675, 0.004097318276762962, 48.923255920410156), ('NS(=O)(=O)Br', 0.025332164019346237, 0.025332164019346237, 50.77703857421875), ('CC(C)c1nc(CCc2c(NCC(=O)NO)nc(P(=O)([O-])O)c(C[NH3+])c2C(C)O)cs1', 0.33336329460144043, 0.33336329460144043, 5.056632041931152), ('NC(=O)NS(=O)(=O)[O-]', 0.06203318387269974, 0.06203318387269974, 22.5333251953125), ('CC(C)c1ccn(-c2cc3c(cc2-n2cnc4c(Br)ncnc42)nc2c(=O)[nH]c(=O)nc-2n3C2CCN(C3CCCCC3)C2OCC(C)(C)O)c(=O)n1', 9.99999901978299e-05, 9.999999747378752e-05, 29.611122131347656), ('NS(=O)(=O)C1CC([SH](=O)=O)C(c2ccc(S)s2)N1C(=O)O', 0.25902697443962097, 0.25902697443962097, 61.87704849243164), ('S[NH+]1CCOCC1', 9.99999901978299e-05, 9.999999747378752e-05, 44.11415100097656), ('F[NH+]1CCOCC1', 0.00851416029036045, 0.008514158427715302, 46.381202697753906), ('O=[PH](O)c1csc(C(F)(F)F)n1', 0.15294261276721954, 0.15294262766838074, 43.68998718261719), ('CC(C)N1C=CCC(C(=O)NO)=C1', 0.2906709313392639, 0.29067090153694153, 53.636863708496094), ('CC(C)C1CNc2nc([N+](=O)[O-])[nH]c(=O)c2N1', 0.4801690876483917, 0.48016905784606934, 51.26344680786133), ('CC(=O)c1c(C(C)O)c(-c2nc3c(c(=O)[nH]2)NC(C[NH3+])CN3)c(S(N)(=O)=O)c(CS)c1P(=O)([O-])O', 0.30290040373802185, 0.30290043354034424, 25.279863357543945), ('NS(=O)(=O)n1c2nc(=O)[nH]c(=O)c-2nc2cc(P(=O)([O-])O)c(C(=O)[O-])cc21', 0.36673951148986816, 0.3667394816875458, 27.353689193725586), ('CC(C)OCc1nc2c(c(=O)[nH]1)NC(c1cc(C3CCOCC3c3cccs3)cc(-c3csc(P(=O)(O)O)n3)c1-c1ccncn1)CN2', 0.15923306345939636, 0.15923306345939636, 50.6369514465332), ('N#CCCC1OC(C(=O)O)C(F)C1[NH+]1CCOCC1', 0.32265621423721313, 0.32265621423721313, 57.00553512573242), ('N=CC1CN(C2C(C=N)OC(C=O)CC2c2cc(Cl)c[nH]2)CCC1c1cc(C(F)(F)F)c2ccccc2c1', 0.5043249130249023, 0.5043249130249023, 57.03456115722656), ('CC(C)=CC1OC(C#N)C(c2cncc(-n3cc(S(=O)(=O)O)c(=O)[nH]c3=O)c2)C1c1cc(-c2cn([PH](=O)[O-])c(=O)[nH]c2=O)c2ccccc2c1', 0.07525800168514252, 0.07525800913572311, 1.4546698331832886), ('CC(O)N1CCN(N2CCN(C(=O)NO)CC2)CC1', 0.40715041756629944, 0.40715041756629944, 49.9350700378418), ('CC(C)(C)n1cc(C[NH3+])c(=O)[nH]c1=O', 0.23831044137477875, 0.23831042647361755, 30.859119415283203), ('CC(=O)NP(=O)([O-])O', 0.03321639448404312, 0.03321639448404312, 26.529434204101562), ('N=CBr', 9.99999901978299e-05, 9.999999747378752e-05, 31.272661209106445), ('CC=Cc1c(CNC(C)=O)c(N2CCN(S(=O)(=O)[O-])CC2)c(C2CCNC2O)c([SH](=O)=O)c1C1CCCC1', 0.30174508690834045, 0.30174508690834045, 11.561944961547852), ('CC(C)(C)S(=O)(=O)O', 0.0506456196308136, 0.0506456159055233, 17.31491470336914), ('CC(C)C1C(c2cn(C3CCN(COCO)CC3n3cnc4c(=O)[nH]c(Br)nc43)c(=O)[nH]c2=O)COC1C(F)(F)F', 0.4993828535079956, 0.4993828535079956, 39.59745407104492), ('O=CC1OC(C2=CN(c3cc(CS)c4ccccc4c3)C=CC2)C(S(=O)(=O)O)C([SH](=O)=O)C1N1CCOCC1', 0.460342139005661, 0.460342139005661, 1.008424997329712), ('CN(C)C(=O)O', 0.02328450046479702, 0.02328450419008732, 30.099000930786133), ('O=[N+]([O-])c1cc(C2C=C(c3ccc[n+](C4CCC(C=CN5CCNCC5)N4)c3)CCC2c2nc(CO)cs2)cc2ccccc12', 0.560585618019104, 0.560585618019104, 20.04266357421875), ('CN(C)C1=CN(C(=N)N)C=CC1', 0.2549206614494324, 0.2549206614494324, 8.630016326904297), ('CC(C)(O)C1CNc2nc(-c3cc4c(cc3N3CCC(c5c[nH]c6ccccc56)C(P(=O)([O-])O)C3)nc3c(=O)[nH]c(=O)nc-3n4CS)[nH]c(=O)c2N1', 0.06800034642219543, 0.06800034642219543, 63.87704849243164), ('N=CC(=O)[O-]', 9.99999901978299e-05, 9.999999747378752e-05, 21.131999969482422), ('CC=C(C)C', 0.007464126218110323, 0.007464127615094185, 41.08647537231445), ('N=Cc1cc(C=O)c(C=N)c([PH](=O)O)c1-c1ccc(-c2cccc(C3CCCCC3)c2)c(-c2c[nH]c3ccccc23)c1', 0.1954861432313919, 0.1954861283302307, 34.5551643371582), ('O=P(O)(O)Br', 0.006592076737433672, 0.006592078134417534, 46.86326599121094), ('CC(C)C1=CN(c2c(C3CCCNC3)nc([PH](=O)O)c(C=N)c2-c2ccc(NC(=O)S(=O)(=O)O)s2)C=CC1', 0.45612481236457825, 0.45612481236457825, 11.203910827636719), ('CC(=CN1C(c2nc3c(c(=O)[nH]2)NC(O)CN3)C(c2ncnc3c2ncn3C[NH3+])CC1S(N)(=O)=O)C(C)C', 0.43103891611099243, 0.43103888630867004, 10.81276798248291), ('O=Cn1ccc(C2CC(c3csc(C(=O)O)n3)C(c3nc4c(ncn4-c4nc5[nH]cnc5c(=O)[nH]4)c(=O)[nH]3)N2c2ccnn2C2CCOCC2)nc1=O', 0.08038753271102905, 0.08038752526044846, 58.28984832763672), ('CC(C)(C)n1cnc2c(S(=O)(=O)O)ncnc21', 0.3011346459388733, 0.3011346459388733, 0.00278202211484313), ('NC(F)(F)F', 0.04797562584280968, 0.04797562211751938, 20.558988571166992), ('NS(=O)(=O)P(=O)([O-])O', 0.059461481869220734, 0.05946147441864014, 39.89286422729492), ('O=P(O)(O)c1ccc(F)s1', 0.1605638861656189, 0.1605638861656189, 29.530710220336914), ('NS(=O)(=O)n1cc(C(F)(F)F)c(=O)[nH]c1=O', 0.27829524874687195, 0.27829524874687195, 28.3197078704834), ('CN(C)[PH](=O)[O-]', 0.025186527520418167, 0.025186529383063316, 59.69936752319336), ('O=C(NS)N1CCOCC1', 0.13351337611675262, 0.13351339101791382, 47.6679573059082), ('CC(=O)NCc1ccc[n+](C(F)(F)F)c1', 0.3263905346393585, 0.3263905346393585, 6.609020233154297), ('CC(=O)NCC1OC(S(N)(=O)=O)C(C2CC(C3CNc4nc([PH](=O)O)[nH]c(=O)c4N3)C(C3CCCC([N+](=O)[O-])C3)CO2)C1C=O', 0.43296414613723755, 0.43296414613723755, 13.740217208862305), ('[NH3+]CC(=O)NN1CCN(c2cc3c(cc2-c2nc(N4CCN(c5ccn(-c6ccc[nH+]c6)c(=O)n5)CC4)cs2)nc2c(=O)[nH]c(=O)nc-2n3C[NH3+])CC1', 0.26304298639297485, 0.26304298639297485, 37.783199310302734), ('C[SH+]C=N', 9.99999901978299e-05, 9.999999747378752e-05, 51.39918518066406), ('O=CNC(=O)c1nc2c(c(=O)[nH]1)NC(Br)CN2', 0.4814903736114502, 0.4814903736114502, 3.6485748291015625), ('O=[PH](O)C(F)(F)F', 0.023267459124326706, 0.023267457261681557, 10.752225875854492), ('CC(C)c1ccc(-c2nc(P(=O)(O)O)cs2)s1', 0.3155771791934967, 0.3155771791934967, 43.59512710571289), ('O=c1nccc[nH]1', 0.10697818547487259, 0.10697820037603378, 7.703517913818359), ('O=S(=O)([O-])S(=O)(=O)O', 0.02419413812458515, 0.0241941399872303, 10.34434986114502), ('CC(C)C(C)O', 0.002595612546429038, 0.0025956127792596817, 40.609004974365234), ('O=CC1CN(n2c3nc(=O)[nH]c(=O)c-3nc3cc(S(=O)(=O)[O-])c(C=CS)cc32)CCC1C(=O)O', 0.3875507712364197, 0.3875507712364197, 0.2245692014694214), ('CC(=O)C1OC(C=N)CC(CO[SH](=O)=O)C1c1nn(C(C)(C)O)c(C(=O)O)c1C1CC=CCC1', 0.37570616602897644, 0.37570616602897644, 29.362390518188477), ('OC(F)(F)F', 0.07960193604230881, 0.07960193604230881, 21.17346954345703), ('CC(=Cc1nc(P(=O)([O-])O)cc(-c2nc3c(ncn3-c3ccnc(-c4csc(Cl)n4)c3)c(=O)[nH]2)c1C=N)C1CCCO1', 0.12705259025096893, 0.12705259025096893, 31.39671516418457), ('N=C(N)COC[NH3+]', 0.021915484219789505, 0.021915486082434654, 36.64025115966797), ('O=C(NO)c1nc(C=C[N+](=O)[O-])cs1', 0.27955567836761475, 0.27955567836761475, 48.95066452026367), ('CC(=O)NCN1C(CS)CC(C=N)C1CNC(=O)O', 0.24452129006385803, 0.24452129006385803, 33.75970458984375), ('NCc1cccc(-c2ccc(F)cc2C2CC(O)OC2c2ccn(-c3ccn(CS)c(=O)n3)c(=O)n2)c1', 0.5133262872695923, 0.5133262872695923, 29.678598403930664), ('CC(C)(O)C1C(c2nc(C(F)(F)F)cs2)C(C=O)C(S(=O)(=O)O)C(C(=O)NO)C1C(F)(F)F', 0.3108907639980316, 0.3108907639980316, 54.104957580566406), ('CC(=O)NCc1c(C(C)(C)C)nc(C(F)(F)F)c(NC(=O)C2CC2)c1-c1c[nH]c2ccccc12', 0.4850824475288391, 0.4850824475288391, 42.02455520629883), ('C[SH+]C1C(C=N)CC(c2cc(-c3ccc4ccccc4c3)c(NC(C)=O)c(-[n+]3cccc(Br)c3)c2)N1c1cncnc1', 0.15093722939491272, 0.15093722939491272, 13.941299438476562), ('CC(=O)c1c(-c2csc(C3CNc4nc[nH]c(=O)c4N3)n2)c(C(=O)O)c(C2CC2)c(C2CCN(C=N)CC2)c1-c1ccc2ccccc2c1', 0.28976207971572876, 0.28976207971572876, 2.1996421813964844), ('Cn1cnc2c(C3CCN(c4ncnc5c4ncn5[SH](=O)=O)CC3C(=O)NCC(F)(F)F)ncnc21', 0.5641227960586548, 0.5641227960586548, 24.633607864379883), ('CC(=O)NN1CCC(C#N)C(P(=O)([O-])O)C1', 0.21973863244056702, 0.21973863244056702, 60.38755416870117), ('Cc1cc(C2C(c3nc(-[n+]4cccc([N+](=O)[O-])c4)cs3)CC([PH](=O)O)C(Cl)C2C(=O)NO)c[nH]1', 0.4852105379104614, 0.4852105379104614, 12.34886646270752), ('CC(C)c1c(CCc2ccn([N+](=O)[O-])c(=O)n2)c(C#N)c(C=O)c(C2CC2)c1C(C)C', 0.37261927127838135, 0.37261927127838135, 21.788066864013672), ('CC(C)(C)P(=O)(O)O', 0.025132397189736366, 0.025132397189736366, 8.117558479309082), ('CC(C)=Cn1cnc2c(OCO)ncnc21', 0.3084922134876251, 0.3084922134876251, 34.63655090332031), ('O=C(O)c1ccc(-c2ccc([PH](=O)O)s2)s1', 0.32247814536094666, 0.32247814536094666, 49.85649490356445), ('CC(=C[PH](=O)[O-])n1cnc2c(C=C[PH](=O)O)ncnc21', 0.3367203176021576, 0.3367203176021576, 28.598466873168945), ('CC(C)=CC(C)C', 0.0550285279750824, 0.0550285242497921, 38.74757766723633), ('CC(C)c1c([PH](=O)[O-])cc(-n2cc(-c3nc4c(c(=O)[nH]3)NC(C=O)CN4)c(=O)[nH]c2=O)c(N)c1N1CCN(N)CC1', 0.44486382603645325, 0.44486379623413086, 40.07826232910156), ('CC(C)CCc1cn(C2OC(CS)C(COc3c[nH]c4ccccc34)C2c2nc3c(c(=O)[nH]2)NC(n2cccn2)CN3)c(=O)[nH]c1=O', 0.36130642890930176, 0.36130642890930176, 37.97963333129883), ('CC(C)(C)c1c(C(F)(F)F)c(N)c(-c2cnc(-c3cn[nH]c3)nc2CN)c(-n2cnc3c(=O)[nH]cnc32)c1P(=O)([O-])O', 0.034187741577625275, 0.03418774530291557, 29.393638610839844), ('CC(=O)C(=O)NC=O', 0.09580136835575104, 0.09580136090517044, 43.54191207885742), ('CC(O)I', 0.010135279037058353, 0.010135279968380928, 29.646390914916992), ('O=c1[nH]c(-c2nc(-c3ncnc4[nH]cnc34)c(-n3cnc4c(=O)[nH]c(C5CCCOC5)nc43)c(C3CCCN3c3nc(F)cs3)n2)nc2c1ncn2S', 0.03417385742068291, 0.03417385369539261, 46.93503952026367), ('O=C(NO)[SH](=O)=O', 0.08168832212686539, 0.08168832957744598, 45.4547119140625), ('CN(C)S', 9.99999901978299e-05, 9.999999747378752e-05, 21.086868286132812), ('CC(C)=CC=C(C)[PH](=O)O', 0.10513436794281006, 0.10513436049222946, 26.65716552734375), ('CC(=O)NCc1cc(C(C)O)c(C2=CN(N)C=CC2)cc1C1CCOCC1N1C=CCC(C2CCCCC2[SH](=O)=O)=C1', 0.3783193528652191, 0.3783193528652191, 52.3751335144043), ('CCc1cc(N2CCNCC2)ccc1C1CC(C(=O)NC)CC([PH](=O)[O-])C1C1CC(c2ncnc3[nH]cnc23)C(c2c[nH]c3ccccc23)O1', 0.337601900100708, 0.3376018702983856, 6.760251522064209), ('N#CC1CC(N2CCOCC2)C(C2CC(c3ccc(C4CCCNC4)s3)C(S(=O)(=O)[O-])N2I)N1c1ccc[nH+]c1', 0.4580325782299042, 0.4580325782299042, 38.2266845703125), ('CC(=O)NCN1CCN(n2cc(OCC3CCCC3)c(=O)[nH]c2=O)CC1', 0.569033682346344, 0.569033682346344, 3.4373819828033447), ('CC(C)(C)Br', 9.99999901978299e-05, 9.999999747378752e-05, 5.936173915863037), ('N#COCn1cnc2c(-c3cc(C4CCCO4)c(C(=O)[O-])c(-c4cc(CS)c[nH]4)c3I)ncnc21', 0.3622168302536011, 0.36221686005592346, 31.83585548400879), ('NN1CCN(C2CC2)CC1', 0.20444218814373016, 0.20444217324256897, 19.71442222595215), ('CN(C)C1CC(c2nccs2)C(C2CCCN2CNC=N)C(c2cc(C(F)(F)F)cc3ccccc23)C1N(C)C', 0.3768260180950165, 0.3768260180950165, 57.95378875732422), ('N=C(N)n1cc(CS)c(=O)[nH]c1=O', 0.24008777737617493, 0.24008777737617493, 40.97939682006836), ('CC=Cc1cc(-c2c(C=O)nc(N)c(C(=O)NO)c2C)c(-c2cc[nH]n2)c(Br)n1', 0.33723923563957214, 0.33723923563957214, 40.615440368652344)]\n"
     ]
    }
   ],
   "source": [
    "data = read_db_data(\"logs/debug_run_seh_frag/final/generated_mols_0.db\", \"logs/debug_run_seh_frag/final/generated_mols_1.db\")\n",
    "print(data)"
   ]
  },
  {
   "cell_type": "code",
   "execution_count": 3,
   "metadata": {},
   "outputs": [],
   "source": [
    "import sqlite3\n",
    "import pandas as pd\n",
    "\n",
    "def read_db_data(*db_paths: str) -> pd.DataFrame:\n",
    "    \"\"\"\n",
    "    Reads all data from the `results` table of multiple SQLite databases.\n",
    "\n",
    "    Parameters\n",
    "    ----------\n",
    "    *db_paths: str\n",
    "        The sqlite3 database paths.\n",
    "\n",
    "    Returns\n",
    "    -------\n",
    "    pd.DataFrame\n",
    "        A combined dataframe containing rows from the `results` table \n",
    "        from all provided databases. Returns an empty dataframe if none of the \n",
    "        tables exist or other errors.\n",
    "    \"\"\"\n",
    "    combined_data = []\n",
    "    columns = None\n",
    "\n",
    "    for db_path in db_paths:\n",
    "        conn = sqlite3.connect(db_path)\n",
    "        \n",
    "        try:\n",
    "            df = pd.read_sql(\"SELECT * FROM results\", conn)\n",
    "            \n",
    "            if columns is None:\n",
    "                columns = df.columns.tolist()\n",
    "            \n",
    "            combined_data.append(df)\n",
    "        except sqlite3.OperationalError as e:\n",
    "            if \"no such table: results\" in str(e):\n",
    "                print(f\"The table 'results' does not exist in the database at path: {db_path}\")\n",
    "            else:\n",
    "                raise e\n",
    "        finally:\n",
    "            conn.close()\n",
    "\n",
    "    if not combined_data:\n",
    "        return pd.DataFrame(columns=columns or [])\n",
    "    \n",
    "    return pd.concat(combined_data, ignore_index=True)"
   ]
  },
  {
   "cell_type": "code",
   "execution_count": 14,
   "metadata": {},
   "outputs": [
    {
     "data": {
      "text/html": [
       "<div>\n",
       "<style scoped>\n",
       "    .dataframe tbody tr th:only-of-type {\n",
       "        vertical-align: middle;\n",
       "    }\n",
       "\n",
       "    .dataframe tbody tr th {\n",
       "        vertical-align: top;\n",
       "    }\n",
       "\n",
       "    .dataframe thead th {\n",
       "        text-align: right;\n",
       "    }\n",
       "</style>\n",
       "<table border=\"1\" class=\"dataframe\">\n",
       "  <thead>\n",
       "    <tr style=\"text-align: right;\">\n",
       "      <th></th>\n",
       "      <th>smi</th>\n",
       "      <th>r</th>\n",
       "      <th>fr_0</th>\n",
       "      <th>ci_beta</th>\n",
       "    </tr>\n",
       "  </thead>\n",
       "  <tbody>\n",
       "    <tr>\n",
       "      <th>0</th>\n",
       "      <td>NS(=O)(=O)NCC(=O)O</td>\n",
       "      <td>0.089591</td>\n",
       "      <td>0.089591</td>\n",
       "      <td>6.038920</td>\n",
       "    </tr>\n",
       "    <tr>\n",
       "      <th>1</th>\n",
       "      <td>OC(F)(F)F</td>\n",
       "      <td>0.079602</td>\n",
       "      <td>0.079602</td>\n",
       "      <td>29.778170</td>\n",
       "    </tr>\n",
       "    <tr>\n",
       "      <th>2</th>\n",
       "      <td>CC(C)(C)c1c(CS)nc(S(=O)(=O)O)nc1C1C(C(=N)N)CC(...</td>\n",
       "      <td>0.167655</td>\n",
       "      <td>0.167655</td>\n",
       "      <td>46.800671</td>\n",
       "    </tr>\n",
       "    <tr>\n",
       "      <th>3</th>\n",
       "      <td>CC(O)C1CCN(C(=O)[O-])CC1C(=O)NO</td>\n",
       "      <td>0.293675</td>\n",
       "      <td>0.293675</td>\n",
       "      <td>46.848484</td>\n",
       "    </tr>\n",
       "    <tr>\n",
       "      <th>4</th>\n",
       "      <td>N=C(N)Br</td>\n",
       "      <td>0.000100</td>\n",
       "      <td>0.000100</td>\n",
       "      <td>62.910297</td>\n",
       "    </tr>\n",
       "    <tr>\n",
       "      <th>...</th>\n",
       "      <td>...</td>\n",
       "      <td>...</td>\n",
       "      <td>...</td>\n",
       "      <td>...</td>\n",
       "    </tr>\n",
       "    <tr>\n",
       "      <th>315</th>\n",
       "      <td>N#COCn1cnc2c(-c3cc(C4CCCO4)c(C(=O)[O-])c(-c4cc...</td>\n",
       "      <td>0.362217</td>\n",
       "      <td>0.362217</td>\n",
       "      <td>31.835855</td>\n",
       "    </tr>\n",
       "    <tr>\n",
       "      <th>316</th>\n",
       "      <td>NN1CCN(C2CC2)CC1</td>\n",
       "      <td>0.204442</td>\n",
       "      <td>0.204442</td>\n",
       "      <td>19.714422</td>\n",
       "    </tr>\n",
       "    <tr>\n",
       "      <th>317</th>\n",
       "      <td>CN(C)C1CC(c2nccs2)C(C2CCCN2CNC=N)C(c2cc(C(F)(F...</td>\n",
       "      <td>0.376826</td>\n",
       "      <td>0.376826</td>\n",
       "      <td>57.953789</td>\n",
       "    </tr>\n",
       "    <tr>\n",
       "      <th>318</th>\n",
       "      <td>N=C(N)n1cc(CS)c(=O)[nH]c1=O</td>\n",
       "      <td>0.240088</td>\n",
       "      <td>0.240088</td>\n",
       "      <td>40.979397</td>\n",
       "    </tr>\n",
       "    <tr>\n",
       "      <th>319</th>\n",
       "      <td>CC=Cc1cc(-c2c(C=O)nc(N)c(C(=O)NO)c2C)c(-c2cc[n...</td>\n",
       "      <td>0.337239</td>\n",
       "      <td>0.337239</td>\n",
       "      <td>40.615440</td>\n",
       "    </tr>\n",
       "  </tbody>\n",
       "</table>\n",
       "<p>320 rows × 4 columns</p>\n",
       "</div>"
      ],
      "text/plain": [
       "                                                   smi         r      fr_0  \\\n",
       "0                                   NS(=O)(=O)NCC(=O)O  0.089591  0.089591   \n",
       "1                                            OC(F)(F)F  0.079602  0.079602   \n",
       "2    CC(C)(C)c1c(CS)nc(S(=O)(=O)O)nc1C1C(C(=N)N)CC(...  0.167655  0.167655   \n",
       "3                      CC(O)C1CCN(C(=O)[O-])CC1C(=O)NO  0.293675  0.293675   \n",
       "4                                             N=C(N)Br  0.000100  0.000100   \n",
       "..                                                 ...       ...       ...   \n",
       "315  N#COCn1cnc2c(-c3cc(C4CCCO4)c(C(=O)[O-])c(-c4cc...  0.362217  0.362217   \n",
       "316                                   NN1CCN(C2CC2)CC1  0.204442  0.204442   \n",
       "317  CN(C)C1CC(c2nccs2)C(C2CCCN2CNC=N)C(c2cc(C(F)(F...  0.376826  0.376826   \n",
       "318                        N=C(N)n1cc(CS)c(=O)[nH]c1=O  0.240088  0.240088   \n",
       "319  CC=Cc1cc(-c2c(C=O)nc(N)c(C(=O)NO)c2C)c(-c2cc[n...  0.337239  0.337239   \n",
       "\n",
       "       ci_beta  \n",
       "0     6.038920  \n",
       "1    29.778170  \n",
       "2    46.800671  \n",
       "3    46.848484  \n",
       "4    62.910297  \n",
       "..         ...  \n",
       "315  31.835855  \n",
       "316  19.714422  \n",
       "317  57.953789  \n",
       "318  40.979397  \n",
       "319  40.615440  \n",
       "\n",
       "[320 rows x 4 columns]"
      ]
     },
     "execution_count": 14,
     "metadata": {},
     "output_type": "execute_result"
    }
   ],
   "source": [
    "data = read_db_data(\"logs/debug_run_seh_frag/final/generated_mols_0.db\", \"logs/debug_run_seh_frag/final/generated_mols_1.db\")\n",
    "data"
   ]
  },
  {
   "cell_type": "code",
   "execution_count": 13,
   "metadata": {},
   "outputs": [
    {
     "data": {
      "text/plain": [
       "315"
      ]
     },
     "execution_count": 13,
     "metadata": {},
     "output_type": "execute_result"
    }
   ],
   "source": []
  },
  {
   "cell_type": "code",
   "execution_count": null,
   "metadata": {},
   "outputs": [],
   "source": []
  }
 ],
 "metadata": {
  "kernelspec": {
   "display_name": "gflownet",
   "language": "python",
   "name": "python3"
  },
  "language_info": {
   "codemirror_mode": {
    "name": "ipython",
    "version": 3
   },
   "file_extension": ".py",
   "mimetype": "text/x-python",
   "name": "python",
   "nbconvert_exporter": "python",
   "pygments_lexer": "ipython3",
   "version": "3.9.15"
  },
  "orig_nbformat": 4
 },
 "nbformat": 4,
 "nbformat_minor": 2
}
