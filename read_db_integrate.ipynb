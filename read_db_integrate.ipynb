{
 "cells": [
  {
   "cell_type": "code",
   "execution_count": 116,
   "metadata": {},
   "outputs": [],
   "source": [
    "import math\n",
    "from copy import deepcopy\n",
    "from itertools import product\n",
    "\n",
    "from rdkit import Chem, DataStructs\n",
    "\n",
    "import sqlite3\n",
    "import pandas as pd\n",
    "\n",
    "import numpy as np\n",
    "import os\n",
    "import glob"
   ]
  },
  {
   "cell_type": "code",
   "execution_count": 117,
   "metadata": {},
   "outputs": [],
   "source": [
    "def read_db_data_in_folder(folder_path: str) -> pd.DataFrame:\n",
    "    \"\"\"\n",
    "    Reads all data from the `results` table of all SQLite databases in a specified folder.\n",
    "\n",
    "    Parameters\n",
    "    ----------\n",
    "    folder_path: str\n",
    "        Path to the folder containing sqlite3 database files.\n",
    "\n",
    "    Returns\n",
    "    -------\n",
    "    pd.DataFrame\n",
    "        A combined dataframe containing rows from the `results` table \n",
    "        from all found databases in the folder. Returns an empty dataframe if none of the \n",
    "        tables exist or other errors.\n",
    "    \"\"\"\n",
    "    # Step 1: Identify all .db files in the directory\n",
    "    db_files = glob.glob(os.path.join(folder_path, \"*.db\"))\n",
    "\n",
    "    combined_data = []\n",
    "    columns = None\n",
    "\n",
    "    for db_path in db_files:\n",
    "        conn = sqlite3.connect(db_path)\n",
    "        \n",
    "        try:\n",
    "            df = pd.read_sql(\"SELECT * FROM results\", conn)\n",
    "            \n",
    "            if columns is None:\n",
    "                columns = df.columns.tolist()\n",
    "            \n",
    "            combined_data.append(df)\n",
    "        except sqlite3.OperationalError as e:\n",
    "            if \"no such table: results\" in str(e):\n",
    "                print(f\"The table 'results' does not exist in the database at path: {db_path}\")\n",
    "            else:\n",
    "                raise e\n",
    "        finally:\n",
    "            conn.close()\n",
    "\n",
    "    if not combined_data:\n",
    "        return pd.DataFrame(columns=columns or [])\n",
    "    \n",
    "    return pd.concat(combined_data, ignore_index=True)\n"
   ]
  },
  {
   "cell_type": "code",
   "execution_count": 118,
   "metadata": {},
   "outputs": [
    {
     "data": {
      "text/plain": [
       "1024"
      ]
     },
     "execution_count": 118,
     "metadata": {},
     "output_type": "execute_result"
    }
   ],
   "source": [
    "df = read_db_data_in_folder(\"logs/mol_eval_seh_frag/final\")\n",
    "len(df)"
   ]
  },
  {
   "cell_type": "code",
   "execution_count": 119,
   "metadata": {},
   "outputs": [
    {
     "data": {
      "text/html": [
       "<div>\n",
       "<style scoped>\n",
       "    .dataframe tbody tr th:only-of-type {\n",
       "        vertical-align: middle;\n",
       "    }\n",
       "\n",
       "    .dataframe tbody tr th {\n",
       "        vertical-align: top;\n",
       "    }\n",
       "\n",
       "    .dataframe thead th {\n",
       "        text-align: right;\n",
       "    }\n",
       "</style>\n",
       "<table border=\"1\" class=\"dataframe\">\n",
       "  <thead>\n",
       "    <tr style=\"text-align: right;\">\n",
       "      <th></th>\n",
       "      <th>smi</th>\n",
       "      <th>r</th>\n",
       "      <th>fr_0</th>\n",
       "      <th>ci_beta</th>\n",
       "      <th>mol</th>\n",
       "    </tr>\n",
       "  </thead>\n",
       "  <tbody>\n",
       "    <tr>\n",
       "      <th>0</th>\n",
       "      <td>CC(C)=CC(C)(C)C</td>\n",
       "      <td>0.036428</td>\n",
       "      <td>0.036428</td>\n",
       "      <td>1.0</td>\n",
       "      <td>&lt;rdkit.Chem.rdchem.Mol object at 0x7f59338775f0&gt;</td>\n",
       "    </tr>\n",
       "    <tr>\n",
       "      <th>1</th>\n",
       "      <td>C[SH+]N1CCN(n2cnc3c(-c4c[nH]c(N5C=CCC([n+]6ccc...</td>\n",
       "      <td>0.621887</td>\n",
       "      <td>0.621887</td>\n",
       "      <td>1.0</td>\n",
       "      <td>&lt;rdkit.Chem.rdchem.Mol object at 0x7f593394af20&gt;</td>\n",
       "    </tr>\n",
       "    <tr>\n",
       "      <th>2</th>\n",
       "      <td>CC(=O)Nc1ccc[n+](-n2cc([N+](=O)[O-])c(=O)[nH]c...</td>\n",
       "      <td>0.419236</td>\n",
       "      <td>0.419236</td>\n",
       "      <td>1.0</td>\n",
       "      <td>&lt;rdkit.Chem.rdchem.Mol object at 0x7f593394af90&gt;</td>\n",
       "    </tr>\n",
       "    <tr>\n",
       "      <th>3</th>\n",
       "      <td>C1CCC(C2CC2)C1</td>\n",
       "      <td>0.103607</td>\n",
       "      <td>0.103607</td>\n",
       "      <td>1.0</td>\n",
       "      <td>&lt;rdkit.Chem.rdchem.Mol object at 0x7f593374bf20&gt;</td>\n",
       "    </tr>\n",
       "    <tr>\n",
       "      <th>4</th>\n",
       "      <td>CC(C)C=CC1OC(Cl)C(n2cnc3c(=O)[nH]c([SH](=O)=O)...</td>\n",
       "      <td>0.391219</td>\n",
       "      <td>0.391219</td>\n",
       "      <td>1.0</td>\n",
       "      <td>&lt;rdkit.Chem.rdchem.Mol object at 0x7f593374bf90&gt;</td>\n",
       "    </tr>\n",
       "    <tr>\n",
       "      <th>...</th>\n",
       "      <td>...</td>\n",
       "      <td>...</td>\n",
       "      <td>...</td>\n",
       "      <td>...</td>\n",
       "      <td>...</td>\n",
       "    </tr>\n",
       "    <tr>\n",
       "      <th>1019</th>\n",
       "      <td>CC(C)(O)n1ccc([PH](=O)[O-])nc1=O</td>\n",
       "      <td>0.283848</td>\n",
       "      <td>0.283848</td>\n",
       "      <td>1.0</td>\n",
       "      <td>&lt;rdkit.Chem.rdchem.Mol object at 0x7f5933765e40&gt;</td>\n",
       "    </tr>\n",
       "    <tr>\n",
       "      <th>1020</th>\n",
       "      <td>CC(C)=CCS</td>\n",
       "      <td>0.005097</td>\n",
       "      <td>0.005097</td>\n",
       "      <td>1.0</td>\n",
       "      <td>&lt;rdkit.Chem.rdchem.Mol object at 0x7f5933765eb0&gt;</td>\n",
       "    </tr>\n",
       "    <tr>\n",
       "      <th>1021</th>\n",
       "      <td>CC(=CI)C(C)(C)O</td>\n",
       "      <td>0.029174</td>\n",
       "      <td>0.029174</td>\n",
       "      <td>1.0</td>\n",
       "      <td>&lt;rdkit.Chem.rdchem.Mol object at 0x7f5933765f20&gt;</td>\n",
       "    </tr>\n",
       "    <tr>\n",
       "      <th>1022</th>\n",
       "      <td>CN(C)C1=CN(c2nc(C(=N)N)cs2)C=CC1</td>\n",
       "      <td>0.360939</td>\n",
       "      <td>0.360939</td>\n",
       "      <td>1.0</td>\n",
       "      <td>&lt;rdkit.Chem.rdchem.Mol object at 0x7f5933765f90&gt;</td>\n",
       "    </tr>\n",
       "    <tr>\n",
       "      <th>1023</th>\n",
       "      <td>CC(O)C1C(C=CC(=O)NCC(=N)N)C(C2CC2)C(Br)C(c2ccc...</td>\n",
       "      <td>0.388540</td>\n",
       "      <td>0.388540</td>\n",
       "      <td>1.0</td>\n",
       "      <td>&lt;rdkit.Chem.rdchem.Mol object at 0x7f5933766040&gt;</td>\n",
       "    </tr>\n",
       "  </tbody>\n",
       "</table>\n",
       "<p>959 rows × 5 columns</p>\n",
       "</div>"
      ],
      "text/plain": [
       "                                                    smi         r      fr_0  \\\n",
       "0                                       CC(C)=CC(C)(C)C  0.036428  0.036428   \n",
       "1     C[SH+]N1CCN(n2cnc3c(-c4c[nH]c(N5C=CCC([n+]6ccc...  0.621887  0.621887   \n",
       "2     CC(=O)Nc1ccc[n+](-n2cc([N+](=O)[O-])c(=O)[nH]c...  0.419236  0.419236   \n",
       "3                                        C1CCC(C2CC2)C1  0.103607  0.103607   \n",
       "4     CC(C)C=CC1OC(Cl)C(n2cnc3c(=O)[nH]c([SH](=O)=O)...  0.391219  0.391219   \n",
       "...                                                 ...       ...       ...   \n",
       "1019                   CC(C)(O)n1ccc([PH](=O)[O-])nc1=O  0.283848  0.283848   \n",
       "1020                                          CC(C)=CCS  0.005097  0.005097   \n",
       "1021                                    CC(=CI)C(C)(C)O  0.029174  0.029174   \n",
       "1022                   CN(C)C1=CN(c2nc(C(=N)N)cs2)C=CC1  0.360939  0.360939   \n",
       "1023  CC(O)C1C(C=CC(=O)NCC(=N)N)C(C2CC2)C(Br)C(c2ccc...  0.388540  0.388540   \n",
       "\n",
       "      ci_beta                                               mol  \n",
       "0         1.0  <rdkit.Chem.rdchem.Mol object at 0x7f59338775f0>  \n",
       "1         1.0  <rdkit.Chem.rdchem.Mol object at 0x7f593394af20>  \n",
       "2         1.0  <rdkit.Chem.rdchem.Mol object at 0x7f593394af90>  \n",
       "3         1.0  <rdkit.Chem.rdchem.Mol object at 0x7f593374bf20>  \n",
       "4         1.0  <rdkit.Chem.rdchem.Mol object at 0x7f593374bf90>  \n",
       "...       ...                                               ...  \n",
       "1019      1.0  <rdkit.Chem.rdchem.Mol object at 0x7f5933765e40>  \n",
       "1020      1.0  <rdkit.Chem.rdchem.Mol object at 0x7f5933765eb0>  \n",
       "1021      1.0  <rdkit.Chem.rdchem.Mol object at 0x7f5933765f20>  \n",
       "1022      1.0  <rdkit.Chem.rdchem.Mol object at 0x7f5933765f90>  \n",
       "1023      1.0  <rdkit.Chem.rdchem.Mol object at 0x7f5933766040>  \n",
       "\n",
       "[959 rows x 5 columns]"
      ]
     },
     "execution_count": 119,
     "metadata": {},
     "output_type": "execute_result"
    }
   ],
   "source": [
    "# Drop duplicates in the SMILES column\n",
    "df = df.drop_duplicates(subset=[\"smi\"])\n",
    "\n",
    "df[\"mol\"] = df[\"smi\"].apply(lambda x: Chem.MolFromSmiles(x))\n",
    "#df[\"fp\"] = df[\"smi\"].apply(lambda x: Chem.RDKFingerprint(Chem.MolFromSmiles(x)))\n",
    "df"
   ]
  },
  {
   "cell_type": "code",
   "execution_count": 120,
   "metadata": {},
   "outputs": [],
   "source": [
    "def compute_diverse_topk(candidates, k=100, tanimoto_thresh=0.7):\n",
    "    modes = [candidates[0]]\n",
    "    mode_fps = [Chem.RDKFingerprint(candidates[0][1])]\n",
    "    for i in range(1, len(candidates)):\n",
    "        fp = Chem.RDKFingerprint(candidates[i][1])\n",
    "        sim = DataStructs.BulkTanimotoSimilarity(fp, mode_fps) \n",
    "        # if sim to any of the modes is less than thresh, add to modes\n",
    "        if max(sim) < tanimoto_thresh:\n",
    "            modes.append(candidates[i])\n",
    "            mode_fps.append(fp)\n",
    "        if len(modes) >= k:\n",
    "            # last_idx = i\n",
    "            break\n",
    "    avg_reward_in_topk_modes = np.mean([i[0] for i in modes])  \n",
    "    return avg_reward_in_topk_modes "
   ]
  },
  {
   "cell_type": "code",
   "execution_count": 121,
   "metadata": {},
   "outputs": [],
   "source": [
    "def compute_num_of_modes(candidates, reward_thresh=8, tanimoto_thresh=0.7):\n",
    "    candidates = sorted(candidates, key=lambda m: m[0], reverse=True)\n",
    "    # cut of candidates with reward less than reward_thresh\n",
    "    candidates = [c for c in candidates if c[0] >= reward_thresh]\n",
    "\n",
    "    num_candidates_above_reward_thresh = len(candidates)\n",
    "    if num_candidates_above_reward_thresh == 0:\n",
    "        return 0, 0\n",
    "    \n",
    "    modes = [candidates[0]]\n",
    "    mode_fps = [Chem.RDKFingerprint(candidates[0][1])]\n",
    "    for i in range(1, len(candidates)):\n",
    "        fp = Chem.RDKFingerprint(candidates[i][1])\n",
    "        sim = DataStructs.BulkTanimotoSimilarity(fp, mode_fps) \n",
    "        # if sim to any of the modes is less than thresh, add to modes\n",
    "        if max(sim) < tanimoto_thresh:\n",
    "            modes.append(candidates[i])\n",
    "            mode_fps.append(fp)\n",
    "\n",
    "    num_of_modes = len(modes)\n",
    "    return num_of_modes,num_candidates_above_reward_thresh"
   ]
  },
  {
   "cell_type": "code",
   "execution_count": 122,
   "metadata": {},
   "outputs": [],
   "source": [
    "def compute_avg_topk(rewards,k):\n",
    "    # Sort the rewards\n",
    "    rewards = sorted(rewards, reverse=True)\n",
    "    # Get the top k rewards\n",
    "    topk_rewards = rewards[:k]\n",
    "    # Return the mean of the top k rewards\n",
    "    return np.mean(topk_rewards)"
   ]
  },
  {
   "cell_type": "code",
   "execution_count": 123,
   "metadata": {},
   "outputs": [],
   "source": [
    "def candidates_eval(path, k=100, reward_thresh=8, tanimoto_thresh=0.7):\n",
    "    df = read_db_data_in_folder(path)\n",
    "\n",
    "    df = df.drop_duplicates(subset=[\"smi\"])\n",
    "\n",
    "    if len(df) < k:\n",
    "        raise ValueError(f\"Number of unique SMILES ({len(df)}) is less than k ({k})\")\n",
    "\n",
    "    df[\"mol\"] = df[\"smi\"].apply(lambda x: Chem.MolFromSmiles(x))\n",
    "\n",
    "    smiles = df[\"smi\"].tolist()\n",
    "    rewards = df[\"r\"].tolist()\n",
    "    mols = df[\"mol\"].tolist()\n",
    "\n",
    "    avg_topk = compute_avg_topk(rewards, k=k)\n",
    "\n",
    "    candidates = list(zip(rewards,mols))\n",
    "    candidates = sorted(candidates, key=lambda m: m[0], reverse=True)\n",
    "\n",
    "    avg_reward_in_topk_modes = compute_diverse_topk(candidates, k=k, tanimoto_thresh=tanimoto_thresh)\n",
    "    num_of_modes,num_candidates_above_reward_thresh = compute_num_of_modes(candidates, reward_thresh = reward_thresh, tanimoto_thresh=tanimoto_thresh)\n",
    "    return {\"avg_topk\": avg_topk, \"avg_reward_in_topk_modes\": avg_reward_in_topk_modes,\"num_of_modes\":num_of_modes, \"max_reward\":max(rewards),\"num_candidates\":len(candidates),\"num_candidates_above_reward_thresh\":num_candidates_above_reward_thresh}\n"
   ]
  },
  {
   "cell_type": "code",
   "execution_count": 124,
   "metadata": {},
   "outputs": [
    {
     "data": {
      "text/plain": [
       "{'avg_topk': 0.5719867277145386,\n",
       " 'avg_reward_in_topk_modes': 0.5674423676729202,\n",
       " 'num_of_modes': 0,\n",
       " 'max_reward': 0.8409422636032104,\n",
       " 'num_candidates': 959,\n",
       " 'num_candidates_above_reward_thresh': 0}"
      ]
     },
     "execution_count": 124,
     "metadata": {},
     "output_type": "execute_result"
    }
   ],
   "source": [
    "path = \"logs/mol_eval_seh_frag/final\"\n",
    "k = 100\n",
    "reward_thresh = 8.0\n",
    "tanimoto_thresh = 0.7\n",
    "candidates_eval(path,k,reward_thresh,tanimoto_thresh)"
   ]
  },
  {
   "cell_type": "code",
   "execution_count": 132,
   "metadata": {},
   "outputs": [
    {
     "data": {
      "text/plain": [
       "0.5674423676729202"
      ]
     },
     "execution_count": 132,
     "metadata": {},
     "output_type": "execute_result"
    }
   ],
   "source": [
    "df = read_db_data_in_folder(path)\n",
    "\n",
    "df = df.drop_duplicates(subset=[\"smi\"])\n",
    "\n",
    "if len(df) < k:\n",
    "    raise ValueError(f\"Number of unique SMILES ({len(df)}) is less than k ({k})\")\n",
    "\n",
    "df[\"mol\"] = df[\"smi\"].apply(lambda x: Chem.MolFromSmiles(x))\n",
    "\n",
    "smiles = df[\"smi\"].tolist()\n",
    "rewards = df[\"r\"].tolist()\n",
    "mols = df[\"mol\"].tolist()\n",
    "\n",
    "\n",
    "candidates = list(zip(rewards,mols))\n",
    "candidates = sorted(candidates, key=lambda m: m[0], reverse=True)\n",
    "\n",
    "avg_reward_in_topk_modes = compute_diverse_topk(candidates, k, tanimoto_thresh)\n",
    "avg_reward_in_topk_modes"
   ]
  },
  {
   "cell_type": "code",
   "execution_count": 136,
   "metadata": {},
   "outputs": [
    {
     "data": {
      "text/plain": [
       "(27, 28)"
      ]
     },
     "execution_count": 136,
     "metadata": {},
     "output_type": "execute_result"
    }
   ],
   "source": [
    "num_of_modes = compute_num_of_modes(candidates, 0.6, 0.7)\n",
    "num_of_modes"
   ]
  },
  {
   "cell_type": "code",
   "execution_count": null,
   "metadata": {},
   "outputs": [],
   "source": []
  }
 ],
 "metadata": {
  "kernelspec": {
   "display_name": "gflownet",
   "language": "python",
   "name": "python3"
  },
  "language_info": {
   "codemirror_mode": {
    "name": "ipython",
    "version": 3
   },
   "file_extension": ".py",
   "mimetype": "text/x-python",
   "name": "python",
   "nbconvert_exporter": "python",
   "pygments_lexer": "ipython3",
   "version": "3.9.15"
  },
  "orig_nbformat": 4
 },
 "nbformat": 4,
 "nbformat_minor": 2
}
