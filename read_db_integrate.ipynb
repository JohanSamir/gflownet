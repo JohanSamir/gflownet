{
 "cells": [
  {
   "cell_type": "code",
   "execution_count": 1,
   "metadata": {},
   "outputs": [],
   "source": [
    "import math\n",
    "from copy import deepcopy\n",
    "from itertools import product\n",
    "\n",
    "from rdkit import Chem, DataStructs\n",
    "\n",
    "import sqlite3\n",
    "import pandas as pd\n",
    "\n",
    "import numpy as np\n",
    "import os\n",
    "import glob"
   ]
  },
  {
   "cell_type": "code",
   "execution_count": 2,
   "metadata": {},
   "outputs": [],
   "source": [
    "def read_db_data_in_folder(folder_path: str) -> pd.DataFrame:\n",
    "    \"\"\"\n",
    "    Reads all data from the `results` table of all SQLite databases in a specified folder.\n",
    "\n",
    "    Parameters\n",
    "    ----------\n",
    "    folder_path: str\n",
    "        Path to the folder containing sqlite3 database files.\n",
    "\n",
    "    Returns\n",
    "    -------\n",
    "    pd.DataFrame\n",
    "        A combined dataframe containing rows from the `results` table \n",
    "        from all found databases in the folder. Returns an empty dataframe if none of the \n",
    "        tables exist or other errors.\n",
    "    \"\"\"\n",
    "    # Step 1: Identify all .db files in the directory\n",
    "    db_files = glob.glob(os.path.join(folder_path, \"*.db\"))\n",
    "\n",
    "    combined_data = []\n",
    "    columns = None\n",
    "\n",
    "    for db_path in db_files:\n",
    "        conn = sqlite3.connect(db_path)\n",
    "        \n",
    "        try:\n",
    "            df = pd.read_sql(\"SELECT * FROM results\", conn)\n",
    "            \n",
    "            if columns is None:\n",
    "                columns = df.columns.tolist()\n",
    "            \n",
    "            combined_data.append(df)\n",
    "        except sqlite3.OperationalError as e:\n",
    "            if \"no such table: results\" in str(e):\n",
    "                print(f\"The table 'results' does not exist in the database at path: {db_path}\")\n",
    "            else:\n",
    "                raise e\n",
    "        finally:\n",
    "            conn.close()\n",
    "\n",
    "    if not combined_data:\n",
    "        return pd.DataFrame(columns=columns or [])\n",
    "    \n",
    "    return pd.concat(combined_data, ignore_index=True)\n"
   ]
  },
  {
   "cell_type": "code",
   "execution_count": 3,
   "metadata": {},
   "outputs": [],
   "source": [
    "df = read_db_data_in_folder(\"logs/debug_run_seh_frag/final\")"
   ]
  },
  {
   "cell_type": "code",
   "execution_count": 4,
   "metadata": {},
   "outputs": [
    {
     "data": {
      "text/html": [
       "<div>\n",
       "<style scoped>\n",
       "    .dataframe tbody tr th:only-of-type {\n",
       "        vertical-align: middle;\n",
       "    }\n",
       "\n",
       "    .dataframe tbody tr th {\n",
       "        vertical-align: top;\n",
       "    }\n",
       "\n",
       "    .dataframe thead th {\n",
       "        text-align: right;\n",
       "    }\n",
       "</style>\n",
       "<table border=\"1\" class=\"dataframe\">\n",
       "  <thead>\n",
       "    <tr style=\"text-align: right;\">\n",
       "      <th></th>\n",
       "      <th>smi</th>\n",
       "      <th>r</th>\n",
       "      <th>fr_0</th>\n",
       "      <th>ci_beta</th>\n",
       "      <th>mol</th>\n",
       "    </tr>\n",
       "  </thead>\n",
       "  <tbody>\n",
       "    <tr>\n",
       "      <th>0</th>\n",
       "      <td>NS(=O)(=O)NCC(=O)O</td>\n",
       "      <td>0.089591</td>\n",
       "      <td>0.089591</td>\n",
       "      <td>6.038920</td>\n",
       "      <td>&lt;rdkit.Chem.rdchem.Mol object at 0x7fbb7651d5f0&gt;</td>\n",
       "    </tr>\n",
       "    <tr>\n",
       "      <th>1</th>\n",
       "      <td>OC(F)(F)F</td>\n",
       "      <td>0.079602</td>\n",
       "      <td>0.079602</td>\n",
       "      <td>29.778170</td>\n",
       "      <td>&lt;rdkit.Chem.rdchem.Mol object at 0x7fbb7651d970&gt;</td>\n",
       "    </tr>\n",
       "    <tr>\n",
       "      <th>2</th>\n",
       "      <td>CC(C)(C)c1c(CS)nc(S(=O)(=O)O)nc1C1C(C(=N)N)CC(...</td>\n",
       "      <td>0.167655</td>\n",
       "      <td>0.167655</td>\n",
       "      <td>46.800671</td>\n",
       "      <td>&lt;rdkit.Chem.rdchem.Mol object at 0x7fbb7651d900&gt;</td>\n",
       "    </tr>\n",
       "    <tr>\n",
       "      <th>3</th>\n",
       "      <td>CC(O)C1CCN(C(=O)[O-])CC1C(=O)NO</td>\n",
       "      <td>0.293675</td>\n",
       "      <td>0.293675</td>\n",
       "      <td>46.848484</td>\n",
       "      <td>&lt;rdkit.Chem.rdchem.Mol object at 0x7fbb76539510&gt;</td>\n",
       "    </tr>\n",
       "    <tr>\n",
       "      <th>4</th>\n",
       "      <td>N=C(N)Br</td>\n",
       "      <td>0.000100</td>\n",
       "      <td>0.000100</td>\n",
       "      <td>62.910297</td>\n",
       "      <td>&lt;rdkit.Chem.rdchem.Mol object at 0x7fbb76539580&gt;</td>\n",
       "    </tr>\n",
       "    <tr>\n",
       "      <th>...</th>\n",
       "      <td>...</td>\n",
       "      <td>...</td>\n",
       "      <td>...</td>\n",
       "      <td>...</td>\n",
       "      <td>...</td>\n",
       "    </tr>\n",
       "    <tr>\n",
       "      <th>315</th>\n",
       "      <td>N#COCn1cnc2c(-c3cc(C4CCCO4)c(C(=O)[O-])c(-c4cc...</td>\n",
       "      <td>0.362217</td>\n",
       "      <td>0.362217</td>\n",
       "      <td>31.835855</td>\n",
       "      <td>&lt;rdkit.Chem.rdchem.Mol object at 0x7fbb764e7d60&gt;</td>\n",
       "    </tr>\n",
       "    <tr>\n",
       "      <th>316</th>\n",
       "      <td>NN1CCN(C2CC2)CC1</td>\n",
       "      <td>0.204442</td>\n",
       "      <td>0.204442</td>\n",
       "      <td>19.714422</td>\n",
       "      <td>&lt;rdkit.Chem.rdchem.Mol object at 0x7fbb764e7dd0&gt;</td>\n",
       "    </tr>\n",
       "    <tr>\n",
       "      <th>317</th>\n",
       "      <td>CN(C)C1CC(c2nccs2)C(C2CCCN2CNC=N)C(c2cc(C(F)(F...</td>\n",
       "      <td>0.376826</td>\n",
       "      <td>0.376826</td>\n",
       "      <td>57.953789</td>\n",
       "      <td>&lt;rdkit.Chem.rdchem.Mol object at 0x7fbb764e7e40&gt;</td>\n",
       "    </tr>\n",
       "    <tr>\n",
       "      <th>318</th>\n",
       "      <td>N=C(N)n1cc(CS)c(=O)[nH]c1=O</td>\n",
       "      <td>0.240088</td>\n",
       "      <td>0.240088</td>\n",
       "      <td>40.979397</td>\n",
       "      <td>&lt;rdkit.Chem.rdchem.Mol object at 0x7fbb764e7eb0&gt;</td>\n",
       "    </tr>\n",
       "    <tr>\n",
       "      <th>319</th>\n",
       "      <td>CC=Cc1cc(-c2c(C=O)nc(N)c(C(=O)NO)c2C)c(-c2cc[n...</td>\n",
       "      <td>0.337239</td>\n",
       "      <td>0.337239</td>\n",
       "      <td>40.615440</td>\n",
       "      <td>&lt;rdkit.Chem.rdchem.Mol object at 0x7fbb764e7f20&gt;</td>\n",
       "    </tr>\n",
       "  </tbody>\n",
       "</table>\n",
       "<p>315 rows × 5 columns</p>\n",
       "</div>"
      ],
      "text/plain": [
       "                                                   smi         r      fr_0  \\\n",
       "0                                   NS(=O)(=O)NCC(=O)O  0.089591  0.089591   \n",
       "1                                            OC(F)(F)F  0.079602  0.079602   \n",
       "2    CC(C)(C)c1c(CS)nc(S(=O)(=O)O)nc1C1C(C(=N)N)CC(...  0.167655  0.167655   \n",
       "3                      CC(O)C1CCN(C(=O)[O-])CC1C(=O)NO  0.293675  0.293675   \n",
       "4                                             N=C(N)Br  0.000100  0.000100   \n",
       "..                                                 ...       ...       ...   \n",
       "315  N#COCn1cnc2c(-c3cc(C4CCCO4)c(C(=O)[O-])c(-c4cc...  0.362217  0.362217   \n",
       "316                                   NN1CCN(C2CC2)CC1  0.204442  0.204442   \n",
       "317  CN(C)C1CC(c2nccs2)C(C2CCCN2CNC=N)C(c2cc(C(F)(F...  0.376826  0.376826   \n",
       "318                        N=C(N)n1cc(CS)c(=O)[nH]c1=O  0.240088  0.240088   \n",
       "319  CC=Cc1cc(-c2c(C=O)nc(N)c(C(=O)NO)c2C)c(-c2cc[n...  0.337239  0.337239   \n",
       "\n",
       "       ci_beta                                               mol  \n",
       "0     6.038920  <rdkit.Chem.rdchem.Mol object at 0x7fbb7651d5f0>  \n",
       "1    29.778170  <rdkit.Chem.rdchem.Mol object at 0x7fbb7651d970>  \n",
       "2    46.800671  <rdkit.Chem.rdchem.Mol object at 0x7fbb7651d900>  \n",
       "3    46.848484  <rdkit.Chem.rdchem.Mol object at 0x7fbb76539510>  \n",
       "4    62.910297  <rdkit.Chem.rdchem.Mol object at 0x7fbb76539580>  \n",
       "..         ...                                               ...  \n",
       "315  31.835855  <rdkit.Chem.rdchem.Mol object at 0x7fbb764e7d60>  \n",
       "316  19.714422  <rdkit.Chem.rdchem.Mol object at 0x7fbb764e7dd0>  \n",
       "317  57.953789  <rdkit.Chem.rdchem.Mol object at 0x7fbb764e7e40>  \n",
       "318  40.979397  <rdkit.Chem.rdchem.Mol object at 0x7fbb764e7eb0>  \n",
       "319  40.615440  <rdkit.Chem.rdchem.Mol object at 0x7fbb764e7f20>  \n",
       "\n",
       "[315 rows x 5 columns]"
      ]
     },
     "execution_count": 4,
     "metadata": {},
     "output_type": "execute_result"
    }
   ],
   "source": [
    "# Drop duplicates in the SMILES column\n",
    "df = df.drop_duplicates(subset=[\"smi\"])\n",
    "\n",
    "df[\"mol\"] = df[\"smi\"].apply(lambda x: Chem.MolFromSmiles(x))\n",
    "#df[\"fp\"] = df[\"smi\"].apply(lambda x: Chem.RDKFingerprint(Chem.MolFromSmiles(x)))\n",
    "df"
   ]
  },
  {
   "cell_type": "code",
   "execution_count": 6,
   "metadata": {},
   "outputs": [],
   "source": [
    "smiles = df[\"smi\"].tolist()\n",
    "rewards = df[\"r\"].tolist()\n",
    "mols = df[\"mol\"].tolist()\n",
    "\n",
    "candidates = list(zip(rewards, smiles, mols))\n",
    "candidates = sorted(candidates, key=lambda m: m[0], reverse=True)"
   ]
  },
  {
   "cell_type": "code",
   "execution_count": 7,
   "metadata": {},
   "outputs": [],
   "source": [
    "def compute_diverse_top_k(candidates, k, thresh=0.7):\n",
    "    modes = [candidates[0]]\n",
    "    mode_fps = [Chem.RDKFingerprint(candidates[0][2])]\n",
    "    for i in range(1, len(candidates)):\n",
    "        fp = Chem.RDKFingerprint(candidates[i][2])\n",
    "        sim = DataStructs.BulkTanimotoSimilarity(fp, mode_fps) \n",
    "        # if sim to any of the modes is less than thresh, add to modes\n",
    "        if max(sim) < thresh:\n",
    "            modes.append(candidates[i])\n",
    "            mode_fps.append(fp)\n",
    "        if len(modes) >= k:\n",
    "            # last_idx = i\n",
    "            break\n",
    "    return np.mean([i[0] for i in modes])  # return sim\n"
   ]
  },
  {
   "cell_type": "code",
   "execution_count": 8,
   "metadata": {},
   "outputs": [],
   "source": [
    "def get_topk(rewards,k):\n",
    "    # Sort the rewards\n",
    "    rewards = sorted(rewards, reverse=True)\n",
    "    # Get the top k rewards\n",
    "    topk_rewards = rewards[:k]\n",
    "    # Return the mean of the top k rewards\n",
    "    return np.mean(topk_rewards)"
   ]
  },
  {
   "cell_type": "code",
   "execution_count": 9,
   "metadata": {},
   "outputs": [
    {
     "data": {
      "text/plain": [
       "0.4532394626736641"
      ]
     },
     "execution_count": 9,
     "metadata": {},
     "output_type": "execute_result"
    }
   ],
   "source": [
    "get_topk(rewards, k=100)"
   ]
  },
  {
   "cell_type": "code",
   "execution_count": 10,
   "metadata": {},
   "outputs": [
    {
     "data": {
      "text/plain": [
       "0.4431504625082016"
      ]
     },
     "execution_count": 10,
     "metadata": {},
     "output_type": "execute_result"
    }
   ],
   "source": [
    "compute_diverse_top_k(candidates, k=100, thresh=0.7)"
   ]
  }
 ],
 "metadata": {
  "kernelspec": {
   "display_name": "gflownet",
   "language": "python",
   "name": "python3"
  },
  "language_info": {
   "codemirror_mode": {
    "name": "ipython",
    "version": 3
   },
   "file_extension": ".py",
   "mimetype": "text/x-python",
   "name": "python",
   "nbconvert_exporter": "python",
   "pygments_lexer": "ipython3",
   "version": "3.9.15"
  },
  "orig_nbformat": 4
 },
 "nbformat": 4,
 "nbformat_minor": 2
}
