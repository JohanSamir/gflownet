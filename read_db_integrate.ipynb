{
 "cells": [
  {
   "cell_type": "code",
   "execution_count": 28,
   "metadata": {},
   "outputs": [],
   "source": [
    "import math\n",
    "from copy import deepcopy\n",
    "from itertools import product\n",
    "\n",
    "from rdkit import Chem, DataStructs\n",
    "\n",
    "import sqlite3\n",
    "import pandas as pd\n",
    "\n",
    "import numpy as np\n",
    "import os\n",
    "import glob"
   ]
  },
  {
   "cell_type": "code",
   "execution_count": 29,
   "metadata": {},
   "outputs": [],
   "source": [
    "def read_db_data_in_folder(folder_path: str) -> pd.DataFrame:\n",
    "    \"\"\"\n",
    "    Reads all data from the `results` table of all SQLite databases in a specified folder.\n",
    "\n",
    "    Parameters\n",
    "    ----------\n",
    "    folder_path: str\n",
    "        Path to the folder containing sqlite3 database files.\n",
    "\n",
    "    Returns\n",
    "    -------\n",
    "    pd.DataFrame\n",
    "        A combined dataframe containing rows from the `results` table \n",
    "        from all found databases in the folder. Returns an empty dataframe if none of the \n",
    "        tables exist or other errors.\n",
    "    \"\"\"\n",
    "    # Step 1: Identify all .db files in the directory\n",
    "    db_files = glob.glob(os.path.join(folder_path, \"*.db\"))\n",
    "\n",
    "    combined_data = []\n",
    "    columns = None\n",
    "\n",
    "    for db_path in db_files:\n",
    "        conn = sqlite3.connect(db_path)\n",
    "        \n",
    "        try:\n",
    "            df = pd.read_sql(\"SELECT * FROM results\", conn)\n",
    "            \n",
    "            if columns is None:\n",
    "                columns = df.columns.tolist()\n",
    "            \n",
    "            combined_data.append(df)\n",
    "        except sqlite3.OperationalError as e:\n",
    "            if \"no such table: results\" in str(e):\n",
    "                print(f\"The table 'results' does not exist in the database at path: {db_path}\")\n",
    "            else:\n",
    "                raise e\n",
    "        finally:\n",
    "            conn.close()\n",
    "\n",
    "    if not combined_data:\n",
    "        return pd.DataFrame(columns=columns or [])\n",
    "    \n",
    "    return pd.concat(combined_data, ignore_index=True)\n"
   ]
  },
  {
   "cell_type": "code",
   "execution_count": 30,
   "metadata": {},
   "outputs": [
    {
     "data": {
      "text/plain": [
       "21248"
      ]
     },
     "execution_count": 30,
     "metadata": {},
     "output_type": "execute_result"
    }
   ],
   "source": [
    "df = read_db_data_in_folder(\"logs/debug_seh_frag/final\")\n",
    "len(df)"
   ]
  },
  {
   "cell_type": "code",
   "execution_count": 31,
   "metadata": {},
   "outputs": [
    {
     "data": {
      "text/html": [
       "<div>\n",
       "<style scoped>\n",
       "    .dataframe tbody tr th:only-of-type {\n",
       "        vertical-align: middle;\n",
       "    }\n",
       "\n",
       "    .dataframe tbody tr th {\n",
       "        vertical-align: top;\n",
       "    }\n",
       "\n",
       "    .dataframe thead th {\n",
       "        text-align: right;\n",
       "    }\n",
       "</style>\n",
       "<table border=\"1\" class=\"dataframe\">\n",
       "  <thead>\n",
       "    <tr style=\"text-align: right;\">\n",
       "      <th></th>\n",
       "      <th>smi</th>\n",
       "      <th>r</th>\n",
       "      <th>fr_0</th>\n",
       "      <th>ci_beta</th>\n",
       "      <th>mol</th>\n",
       "    </tr>\n",
       "  </thead>\n",
       "  <tbody>\n",
       "    <tr>\n",
       "      <th>0</th>\n",
       "      <td>CC(=O)Nc1c[nH]c(S(=O)(=O)[O-])c1</td>\n",
       "      <td>0.284038</td>\n",
       "      <td>0.284038</td>\n",
       "      <td>1.0</td>\n",
       "      <td>&lt;rdkit.Chem.rdchem.Mol object at 0x7f0425e959e0&gt;</td>\n",
       "    </tr>\n",
       "    <tr>\n",
       "      <th>1</th>\n",
       "      <td>CC(=O)NC(=O)O</td>\n",
       "      <td>0.074949</td>\n",
       "      <td>0.074949</td>\n",
       "      <td>1.0</td>\n",
       "      <td>&lt;rdkit.Chem.rdchem.Mol object at 0x7f0425bd3e40&gt;</td>\n",
       "    </tr>\n",
       "    <tr>\n",
       "      <th>2</th>\n",
       "      <td>O=c1nc2n(Br)c3cc(CNCS)c([SH](=O)=O)cc3nc-2c(=O...</td>\n",
       "      <td>0.422705</td>\n",
       "      <td>0.422705</td>\n",
       "      <td>1.0</td>\n",
       "      <td>&lt;rdkit.Chem.rdchem.Mol object at 0x7f0425bd3eb0&gt;</td>\n",
       "    </tr>\n",
       "    <tr>\n",
       "      <th>3</th>\n",
       "      <td>CC(=O)NCc1csc(S(N)(=O)=O)n1</td>\n",
       "      <td>0.288808</td>\n",
       "      <td>0.288808</td>\n",
       "      <td>1.0</td>\n",
       "      <td>&lt;rdkit.Chem.rdchem.Mol object at 0x7f0425bd3d60&gt;</td>\n",
       "    </tr>\n",
       "    <tr>\n",
       "      <th>4</th>\n",
       "      <td>CC(C)(O)N1C(S)C(COC=O)CC1C(F)(F)F</td>\n",
       "      <td>0.230196</td>\n",
       "      <td>0.230196</td>\n",
       "      <td>1.0</td>\n",
       "      <td>&lt;rdkit.Chem.rdchem.Mol object at 0x7f0425bd3f20&gt;</td>\n",
       "    </tr>\n",
       "    <tr>\n",
       "      <th>...</th>\n",
       "      <td>...</td>\n",
       "      <td>...</td>\n",
       "      <td>...</td>\n",
       "      <td>...</td>\n",
       "      <td>...</td>\n",
       "    </tr>\n",
       "    <tr>\n",
       "      <th>21239</th>\n",
       "      <td>N#CC1=CC(C2=CN(C(=O)NCC=O)C=CC2)C(C2CNc3nc([NH...</td>\n",
       "      <td>0.558299</td>\n",
       "      <td>0.558299</td>\n",
       "      <td>1.0</td>\n",
       "      <td>&lt;rdkit.Chem.rdchem.Mol object at 0x7f0425aa14a0&gt;</td>\n",
       "    </tr>\n",
       "    <tr>\n",
       "      <th>21242</th>\n",
       "      <td>CC(O)C1C(N2CCN(c3cn(-c4ncnc5[nH]cnc45)c(=O)[nH...</td>\n",
       "      <td>0.500449</td>\n",
       "      <td>0.500449</td>\n",
       "      <td>1.0</td>\n",
       "      <td>&lt;rdkit.Chem.rdchem.Mol object at 0x7f0425aa1510&gt;</td>\n",
       "    </tr>\n",
       "    <tr>\n",
       "      <th>21243</th>\n",
       "      <td>C[SH+]C=C[n+]1cccc(C[NH3+])c1</td>\n",
       "      <td>0.134914</td>\n",
       "      <td>0.134914</td>\n",
       "      <td>1.0</td>\n",
       "      <td>&lt;rdkit.Chem.rdchem.Mol object at 0x7f0425aa1580&gt;</td>\n",
       "    </tr>\n",
       "    <tr>\n",
       "      <th>21244</th>\n",
       "      <td>O=C([O-])COc1ccc(-c2csc([SH](=O)=O)n2)s1</td>\n",
       "      <td>0.321832</td>\n",
       "      <td>0.321832</td>\n",
       "      <td>1.0</td>\n",
       "      <td>&lt;rdkit.Chem.rdchem.Mol object at 0x7f0425aa15f0&gt;</td>\n",
       "    </tr>\n",
       "    <tr>\n",
       "      <th>21246</th>\n",
       "      <td>C#N</td>\n",
       "      <td>0.006834</td>\n",
       "      <td>0.006834</td>\n",
       "      <td>1.0</td>\n",
       "      <td>&lt;rdkit.Chem.rdchem.Mol object at 0x7f0425aa1660&gt;</td>\n",
       "    </tr>\n",
       "  </tbody>\n",
       "</table>\n",
       "<p>14205 rows × 5 columns</p>\n",
       "</div>"
      ],
      "text/plain": [
       "                                                     smi         r      fr_0  \\\n",
       "0                       CC(=O)Nc1c[nH]c(S(=O)(=O)[O-])c1  0.284038  0.284038   \n",
       "1                                          CC(=O)NC(=O)O  0.074949  0.074949   \n",
       "2      O=c1nc2n(Br)c3cc(CNCS)c([SH](=O)=O)cc3nc-2c(=O...  0.422705  0.422705   \n",
       "3                            CC(=O)NCc1csc(S(N)(=O)=O)n1  0.288808  0.288808   \n",
       "4                      CC(C)(O)N1C(S)C(COC=O)CC1C(F)(F)F  0.230196  0.230196   \n",
       "...                                                  ...       ...       ...   \n",
       "21239  N#CC1=CC(C2=CN(C(=O)NCC=O)C=CC2)C(C2CNc3nc([NH...  0.558299  0.558299   \n",
       "21242  CC(O)C1C(N2CCN(c3cn(-c4ncnc5[nH]cnc45)c(=O)[nH...  0.500449  0.500449   \n",
       "21243                      C[SH+]C=C[n+]1cccc(C[NH3+])c1  0.134914  0.134914   \n",
       "21244           O=C([O-])COc1ccc(-c2csc([SH](=O)=O)n2)s1  0.321832  0.321832   \n",
       "21246                                                C#N  0.006834  0.006834   \n",
       "\n",
       "       ci_beta                                               mol  \n",
       "0          1.0  <rdkit.Chem.rdchem.Mol object at 0x7f0425e959e0>  \n",
       "1          1.0  <rdkit.Chem.rdchem.Mol object at 0x7f0425bd3e40>  \n",
       "2          1.0  <rdkit.Chem.rdchem.Mol object at 0x7f0425bd3eb0>  \n",
       "3          1.0  <rdkit.Chem.rdchem.Mol object at 0x7f0425bd3d60>  \n",
       "4          1.0  <rdkit.Chem.rdchem.Mol object at 0x7f0425bd3f20>  \n",
       "...        ...                                               ...  \n",
       "21239      1.0  <rdkit.Chem.rdchem.Mol object at 0x7f0425aa14a0>  \n",
       "21242      1.0  <rdkit.Chem.rdchem.Mol object at 0x7f0425aa1510>  \n",
       "21243      1.0  <rdkit.Chem.rdchem.Mol object at 0x7f0425aa1580>  \n",
       "21244      1.0  <rdkit.Chem.rdchem.Mol object at 0x7f0425aa15f0>  \n",
       "21246      1.0  <rdkit.Chem.rdchem.Mol object at 0x7f0425aa1660>  \n",
       "\n",
       "[14205 rows x 5 columns]"
      ]
     },
     "execution_count": 31,
     "metadata": {},
     "output_type": "execute_result"
    }
   ],
   "source": [
    "# Drop duplicates in the SMILES column\n",
    "df = df.drop_duplicates(subset=[\"smi\"])\n",
    "\n",
    "df[\"mol\"] = df[\"smi\"].apply(lambda x: Chem.MolFromSmiles(x))\n",
    "#df[\"fp\"] = df[\"smi\"].apply(lambda x: Chem.RDKFingerprint(Chem.MolFromSmiles(x)))\n",
    "df"
   ]
  },
  {
   "cell_type": "code",
   "execution_count": 32,
   "metadata": {},
   "outputs": [],
   "source": [
    "smiles = df[\"smi\"].tolist()\n",
    "rewards = df[\"r\"].tolist()\n",
    "mols = df[\"mol\"].tolist()\n",
    "\n",
    "candidates = list(zip(rewards, smiles, mols))\n",
    "candidates = sorted(candidates, key=lambda m: m[0], reverse=True)"
   ]
  },
  {
   "cell_type": "code",
   "execution_count": 33,
   "metadata": {},
   "outputs": [],
   "source": [
    "def compute_diverse_top_k(candidates, k, thresh=0.7):\n",
    "    modes = [candidates[0]]\n",
    "    mode_fps = [Chem.RDKFingerprint(candidates[0][2])]\n",
    "    for i in range(1, len(candidates)):\n",
    "        fp = Chem.RDKFingerprint(candidates[i][2])\n",
    "        sim = DataStructs.BulkTanimotoSimilarity(fp, mode_fps) \n",
    "        # if sim to any of the modes is less than thresh, add to modes\n",
    "        if max(sim) < thresh:\n",
    "            modes.append(candidates[i])\n",
    "            mode_fps.append(fp)\n",
    "        if len(modes) >= k:\n",
    "            # last_idx = i\n",
    "            break\n",
    "    return np.mean([i[0] for i in modes])  # return sim\n"
   ]
  },
  {
   "cell_type": "code",
   "execution_count": 34,
   "metadata": {},
   "outputs": [],
   "source": [
    "def get_topk(rewards,k):\n",
    "    # Sort the rewards\n",
    "    rewards = sorted(rewards, reverse=True)\n",
    "    # Get the top k rewards\n",
    "    topk_rewards = rewards[:k]\n",
    "    # Return the mean of the top k rewards\n",
    "    return np.mean(topk_rewards)"
   ]
  },
  {
   "cell_type": "code",
   "execution_count": 35,
   "metadata": {},
   "outputs": [
    {
     "data": {
      "text/plain": [
       "0.7189621144533157"
      ]
     },
     "execution_count": 35,
     "metadata": {},
     "output_type": "execute_result"
    }
   ],
   "source": [
    "get_topk(rewards, k=100)"
   ]
  },
  {
   "cell_type": "code",
   "execution_count": 36,
   "metadata": {},
   "outputs": [
    {
     "data": {
      "text/plain": [
       "0.7040923529863358"
      ]
     },
     "execution_count": 36,
     "metadata": {},
     "output_type": "execute_result"
    }
   ],
   "source": [
    "compute_diverse_top_k(candidates, k=100, thresh=0.7)"
   ]
  }
 ],
 "metadata": {
  "kernelspec": {
   "display_name": "gflownet",
   "language": "python",
   "name": "python3"
  },
  "language_info": {
   "codemirror_mode": {
    "name": "ipython",
    "version": 3
   },
   "file_extension": ".py",
   "mimetype": "text/x-python",
   "name": "python",
   "nbconvert_exporter": "python",
   "pygments_lexer": "ipython3",
   "version": "3.9.15"
  },
  "orig_nbformat": 4
 },
 "nbformat": 4,
 "nbformat_minor": 2
}
