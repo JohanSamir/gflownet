{
 "cells": [
  {
   "cell_type": "code",
   "execution_count": 1,
   "metadata": {},
   "outputs": [],
   "source": [
    "import math\n",
    "from copy import deepcopy\n",
    "from itertools import product\n",
    "\n",
    "from rdkit import Chem, DataStructs\n",
    "\n",
    "import sqlite3\n",
    "import pandas as pd\n",
    "\n",
    "import numpy as np\n",
    "import os\n",
    "import glob"
   ]
  },
  {
   "cell_type": "code",
   "execution_count": 2,
   "metadata": {},
   "outputs": [],
   "source": [
    "def read_db_data_in_folder(folder_path: str) -> pd.DataFrame:\n",
    "    \"\"\"\n",
    "    Reads all data from the `results` table of all SQLite databases in a specified folder.\n",
    "\n",
    "    Parameters\n",
    "    ----------\n",
    "    folder_path: str\n",
    "        Path to the folder containing sqlite3 database files.\n",
    "\n",
    "    Returns\n",
    "    -------\n",
    "    pd.DataFrame\n",
    "        A combined dataframe containing rows from the `results` table \n",
    "        from all found databases in the folder. Returns an empty dataframe if none of the \n",
    "        tables exist or other errors.\n",
    "    \"\"\"\n",
    "    # Step 1: Identify all .db files in the directory\n",
    "    db_files = glob.glob(os.path.join(folder_path, \"*.db\"))\n",
    "\n",
    "    combined_data = []\n",
    "    columns = None\n",
    "\n",
    "    for db_path in db_files:\n",
    "        conn = sqlite3.connect(db_path)\n",
    "        \n",
    "        try:\n",
    "            df = pd.read_sql(\"SELECT * FROM results\", conn)\n",
    "            \n",
    "            if columns is None:\n",
    "                columns = df.columns.tolist()\n",
    "            \n",
    "            combined_data.append(df)\n",
    "        except sqlite3.OperationalError as e:\n",
    "            if \"no such table: results\" in str(e):\n",
    "                print(f\"The table 'results' does not exist in the database at path: {db_path}\")\n",
    "            else:\n",
    "                raise e\n",
    "        finally:\n",
    "            conn.close()\n",
    "\n",
    "    if not combined_data:\n",
    "        return pd.DataFrame(columns=columns or [])\n",
    "    \n",
    "    return pd.concat(combined_data, ignore_index=True)\n"
   ]
  },
  {
   "cell_type": "code",
   "execution_count": 3,
   "metadata": {},
   "outputs": [
    {
     "data": {
      "text/plain": [
       "1024"
      ]
     },
     "execution_count": 3,
     "metadata": {},
     "output_type": "execute_result"
    }
   ],
   "source": [
    "df = read_db_data_in_folder(\"logs/mol_eval_seh_frag/final\")\n",
    "len(df)"
   ]
  },
  {
   "cell_type": "code",
   "execution_count": 4,
   "metadata": {},
   "outputs": [
    {
     "data": {
      "text/html": [
       "<div>\n",
       "<style scoped>\n",
       "    .dataframe tbody tr th:only-of-type {\n",
       "        vertical-align: middle;\n",
       "    }\n",
       "\n",
       "    .dataframe tbody tr th {\n",
       "        vertical-align: top;\n",
       "    }\n",
       "\n",
       "    .dataframe thead th {\n",
       "        text-align: right;\n",
       "    }\n",
       "</style>\n",
       "<table border=\"1\" class=\"dataframe\">\n",
       "  <thead>\n",
       "    <tr style=\"text-align: right;\">\n",
       "      <th></th>\n",
       "      <th>smi</th>\n",
       "      <th>r</th>\n",
       "      <th>fr_0</th>\n",
       "      <th>ci_beta</th>\n",
       "      <th>mol</th>\n",
       "    </tr>\n",
       "  </thead>\n",
       "  <tbody>\n",
       "    <tr>\n",
       "      <th>0</th>\n",
       "      <td>CC(=O)NNC(=O)CCC=C(C)C</td>\n",
       "      <td>0.210392</td>\n",
       "      <td>0.210392</td>\n",
       "      <td>1.0</td>\n",
       "      <td>&lt;rdkit.Chem.rdchem.Mol object at 0x7fd47f974900&gt;</td>\n",
       "    </tr>\n",
       "    <tr>\n",
       "      <th>1</th>\n",
       "      <td>O=C(O)N1CCOCC1</td>\n",
       "      <td>0.110476</td>\n",
       "      <td>0.110476</td>\n",
       "      <td>1.0</td>\n",
       "      <td>&lt;rdkit.Chem.rdchem.Mol object at 0x7fd47f974580&gt;</td>\n",
       "    </tr>\n",
       "    <tr>\n",
       "      <th>2</th>\n",
       "      <td>N#CCOP(=O)([O-])O</td>\n",
       "      <td>0.031916</td>\n",
       "      <td>0.031916</td>\n",
       "      <td>1.0</td>\n",
       "      <td>&lt;rdkit.Chem.rdchem.Mol object at 0x7fd47f9745f0&gt;</td>\n",
       "    </tr>\n",
       "    <tr>\n",
       "      <th>3</th>\n",
       "      <td>CC(=O)P(=O)(O)O</td>\n",
       "      <td>0.022560</td>\n",
       "      <td>0.022560</td>\n",
       "      <td>1.0</td>\n",
       "      <td>&lt;rdkit.Chem.rdchem.Mol object at 0x7fd47f974740&gt;</td>\n",
       "    </tr>\n",
       "    <tr>\n",
       "      <th>4</th>\n",
       "      <td>CC(C)(O)C(=O)NO</td>\n",
       "      <td>0.128396</td>\n",
       "      <td>0.128396</td>\n",
       "      <td>1.0</td>\n",
       "      <td>&lt;rdkit.Chem.rdchem.Mol object at 0x7fd47f92e9e0&gt;</td>\n",
       "    </tr>\n",
       "    <tr>\n",
       "      <th>...</th>\n",
       "      <td>...</td>\n",
       "      <td>...</td>\n",
       "      <td>...</td>\n",
       "      <td>...</td>\n",
       "      <td>...</td>\n",
       "    </tr>\n",
       "    <tr>\n",
       "      <th>1017</th>\n",
       "      <td>CC(C)C1C(C)CC(C#N)N1S</td>\n",
       "      <td>0.124972</td>\n",
       "      <td>0.124972</td>\n",
       "      <td>1.0</td>\n",
       "      <td>&lt;rdkit.Chem.rdchem.Mol object at 0x7fd47f8f1890&gt;</td>\n",
       "    </tr>\n",
       "    <tr>\n",
       "      <th>1018</th>\n",
       "      <td>N=C(N)c1c[nH]c2ccccc12</td>\n",
       "      <td>0.287834</td>\n",
       "      <td>0.287834</td>\n",
       "      <td>1.0</td>\n",
       "      <td>&lt;rdkit.Chem.rdchem.Mol object at 0x7fd47f8f1900&gt;</td>\n",
       "    </tr>\n",
       "    <tr>\n",
       "      <th>1019</th>\n",
       "      <td>CC(=CNCN1CCOCC1)[PH](=O)[O-]</td>\n",
       "      <td>0.223632</td>\n",
       "      <td>0.223632</td>\n",
       "      <td>1.0</td>\n",
       "      <td>&lt;rdkit.Chem.rdchem.Mol object at 0x7fd47f8f1970&gt;</td>\n",
       "    </tr>\n",
       "    <tr>\n",
       "      <th>1020</th>\n",
       "      <td>CNn1nc(N)c(S(=O)(=O)[O-])c1-c1cc(-c2cccs2)cc(C...</td>\n",
       "      <td>0.347114</td>\n",
       "      <td>0.347114</td>\n",
       "      <td>1.0</td>\n",
       "      <td>&lt;rdkit.Chem.rdchem.Mol object at 0x7fd47f8f19e0&gt;</td>\n",
       "    </tr>\n",
       "    <tr>\n",
       "      <th>1022</th>\n",
       "      <td>NC=O</td>\n",
       "      <td>0.000100</td>\n",
       "      <td>0.000100</td>\n",
       "      <td>1.0</td>\n",
       "      <td>&lt;rdkit.Chem.rdchem.Mol object at 0x7fd47f8f1a50&gt;</td>\n",
       "    </tr>\n",
       "  </tbody>\n",
       "</table>\n",
       "<p>942 rows × 5 columns</p>\n",
       "</div>"
      ],
      "text/plain": [
       "                                                    smi         r      fr_0  \\\n",
       "0                                CC(=O)NNC(=O)CCC=C(C)C  0.210392  0.210392   \n",
       "1                                        O=C(O)N1CCOCC1  0.110476  0.110476   \n",
       "2                                     N#CCOP(=O)([O-])O  0.031916  0.031916   \n",
       "3                                       CC(=O)P(=O)(O)O  0.022560  0.022560   \n",
       "4                                       CC(C)(O)C(=O)NO  0.128396  0.128396   \n",
       "...                                                 ...       ...       ...   \n",
       "1017                              CC(C)C1C(C)CC(C#N)N1S  0.124972  0.124972   \n",
       "1018                             N=C(N)c1c[nH]c2ccccc12  0.287834  0.287834   \n",
       "1019                       CC(=CNCN1CCOCC1)[PH](=O)[O-]  0.223632  0.223632   \n",
       "1020  CNn1nc(N)c(S(=O)(=O)[O-])c1-c1cc(-c2cccs2)cc(C...  0.347114  0.347114   \n",
       "1022                                               NC=O  0.000100  0.000100   \n",
       "\n",
       "      ci_beta                                               mol  \n",
       "0         1.0  <rdkit.Chem.rdchem.Mol object at 0x7fd47f974900>  \n",
       "1         1.0  <rdkit.Chem.rdchem.Mol object at 0x7fd47f974580>  \n",
       "2         1.0  <rdkit.Chem.rdchem.Mol object at 0x7fd47f9745f0>  \n",
       "3         1.0  <rdkit.Chem.rdchem.Mol object at 0x7fd47f974740>  \n",
       "4         1.0  <rdkit.Chem.rdchem.Mol object at 0x7fd47f92e9e0>  \n",
       "...       ...                                               ...  \n",
       "1017      1.0  <rdkit.Chem.rdchem.Mol object at 0x7fd47f8f1890>  \n",
       "1018      1.0  <rdkit.Chem.rdchem.Mol object at 0x7fd47f8f1900>  \n",
       "1019      1.0  <rdkit.Chem.rdchem.Mol object at 0x7fd47f8f1970>  \n",
       "1020      1.0  <rdkit.Chem.rdchem.Mol object at 0x7fd47f8f19e0>  \n",
       "1022      1.0  <rdkit.Chem.rdchem.Mol object at 0x7fd47f8f1a50>  \n",
       "\n",
       "[942 rows x 5 columns]"
      ]
     },
     "execution_count": 4,
     "metadata": {},
     "output_type": "execute_result"
    }
   ],
   "source": [
    "# Drop duplicates in the SMILES column\n",
    "df = df.drop_duplicates(subset=[\"smi\"])\n",
    "\n",
    "df[\"mol\"] = df[\"smi\"].apply(lambda x: Chem.MolFromSmiles(x))\n",
    "#df[\"fp\"] = df[\"smi\"].apply(lambda x: Chem.RDKFingerprint(Chem.MolFromSmiles(x)))\n",
    "df"
   ]
  },
  {
   "cell_type": "code",
   "execution_count": 5,
   "metadata": {},
   "outputs": [],
   "source": [
    "def compute_diverse_topk(candidates, k=100, tanimoto_thresh=0.7):\n",
    "    modes = [candidates[0]]\n",
    "    mode_fps = [Chem.RDKFingerprint(candidates[0][1])]\n",
    "    for i in range(1, len(candidates)):\n",
    "        fp = Chem.RDKFingerprint(candidates[i][1])\n",
    "        sim = DataStructs.BulkTanimotoSimilarity(fp, mode_fps) \n",
    "        # if sim to any of the modes is less than thresh, add to modes\n",
    "        if max(sim) < tanimoto_thresh:\n",
    "            modes.append(candidates[i])\n",
    "            mode_fps.append(fp)\n",
    "        if len(modes) >= k:\n",
    "            # last_idx = i\n",
    "            break\n",
    "    avg_reward_in_topk_modes = np.mean([i[0] for i in modes])  \n",
    "    return avg_reward_in_topk_modes "
   ]
  },
  {
   "cell_type": "code",
   "execution_count": 6,
   "metadata": {},
   "outputs": [],
   "source": [
    "def compute_num_of_modes(candidates, reward_thresh=8, tanimoto_thresh=0.7):\n",
    "    candidates = sorted(candidates, key=lambda m: m[0], reverse=True)\n",
    "    # cut of candidates with reward less than reward_thresh\n",
    "    candidates = [c for c in candidates if c[0] >= reward_thresh]\n",
    "\n",
    "    num_candidates_above_reward_thresh = len(candidates)\n",
    "    if num_candidates_above_reward_thresh == 0:\n",
    "        return 0, 0\n",
    "    \n",
    "    modes = [candidates[0]]\n",
    "    mode_fps = [Chem.RDKFingerprint(candidates[0][1])]\n",
    "    for i in range(1, len(candidates)):\n",
    "        fp = Chem.RDKFingerprint(candidates[i][1])\n",
    "        sim = DataStructs.BulkTanimotoSimilarity(fp, mode_fps) \n",
    "        # if sim to any of the modes is less than thresh, add to modes\n",
    "        if max(sim) < tanimoto_thresh:\n",
    "            modes.append(candidates[i])\n",
    "            mode_fps.append(fp)\n",
    "\n",
    "    num_of_modes = len(modes)\n",
    "    return num_of_modes,num_candidates_above_reward_thresh"
   ]
  },
  {
   "cell_type": "code",
   "execution_count": 7,
   "metadata": {},
   "outputs": [],
   "source": [
    "def compute_avg_topk(rewards,k):\n",
    "    # Sort the rewards\n",
    "    rewards = sorted(rewards, reverse=True)\n",
    "    # Get the top k rewards\n",
    "    topk_rewards = rewards[:k]\n",
    "    # Return the mean of the top k rewards\n",
    "    return np.mean(topk_rewards)"
   ]
  },
  {
   "cell_type": "code",
   "execution_count": 8,
   "metadata": {},
   "outputs": [],
   "source": [
    "def candidates_eval(path, k=100, reward_thresh=8, tanimoto_thresh=0.7):\n",
    "    df = read_db_data_in_folder(path)\n",
    "\n",
    "    df = df.drop_duplicates(subset=[\"smi\"])\n",
    "\n",
    "    if len(df) < k:\n",
    "        raise ValueError(f\"Number of unique SMILES ({len(df)}) is less than k ({k})\")\n",
    "\n",
    "    df[\"mol\"] = df[\"smi\"].apply(lambda x: Chem.MolFromSmiles(x))\n",
    "\n",
    "    smiles = df[\"smi\"].tolist()\n",
    "    rewards = df[\"r\"].tolist()\n",
    "    mols = df[\"mol\"].tolist()\n",
    "\n",
    "    avg_topk = compute_avg_topk(rewards, k=k)\n",
    "\n",
    "    candidates = list(zip(rewards,mols))\n",
    "    candidates = sorted(candidates, key=lambda m: m[0], reverse=True)\n",
    "\n",
    "    avg_reward_in_topk_modes = compute_diverse_topk(candidates, k=k, tanimoto_thresh=tanimoto_thresh)\n",
    "    num_of_modes,num_candidates_above_reward_thresh = compute_num_of_modes(candidates, reward_thresh = reward_thresh, tanimoto_thresh=tanimoto_thresh)\n",
    "    return {\"avg_topk\": avg_topk, \"avg_reward_in_topk_modes\": avg_reward_in_topk_modes,\"num_of_modes\":num_of_modes, \"max_reward\":max(rewards),\"num_candidates\":len(candidates),\"num_candidates_above_reward_thresh\":num_candidates_above_reward_thresh}\n"
   ]
  },
  {
   "cell_type": "code",
   "execution_count": 9,
   "metadata": {},
   "outputs": [
    {
     "data": {
      "text/plain": [
       "{'avg_topk': 0.5677922984957695,\n",
       " 'avg_reward_in_topk_modes': 0.549915187060833,\n",
       " 'num_of_modes': 0,\n",
       " 'max_reward': 0.8157103657722473,\n",
       " 'num_candidates': 942,\n",
       " 'num_candidates_above_reward_thresh': 0}"
      ]
     },
     "execution_count": 9,
     "metadata": {},
     "output_type": "execute_result"
    }
   ],
   "source": [
    "path = \"logs/mol_eval_seh_frag/final\"\n",
    "k = 100\n",
    "reward_thresh = 8.0\n",
    "tanimoto_thresh = 0.7\n",
    "candidates_eval(path,k,reward_thresh,tanimoto_thresh)"
   ]
  },
  {
   "cell_type": "code",
   "execution_count": 10,
   "metadata": {},
   "outputs": [
    {
     "data": {
      "text/plain": [
       "0.549915187060833"
      ]
     },
     "execution_count": 10,
     "metadata": {},
     "output_type": "execute_result"
    }
   ],
   "source": [
    "df = read_db_data_in_folder(path)\n",
    "\n",
    "df = df.drop_duplicates(subset=[\"smi\"])\n",
    "\n",
    "if len(df) < k:\n",
    "    raise ValueError(f\"Number of unique SMILES ({len(df)}) is less than k ({k})\")\n",
    "\n",
    "df[\"mol\"] = df[\"smi\"].apply(lambda x: Chem.MolFromSmiles(x))\n",
    "\n",
    "smiles = df[\"smi\"].tolist()\n",
    "rewards = df[\"r\"].tolist()\n",
    "mols = df[\"mol\"].tolist()\n",
    "\n",
    "\n",
    "candidates = list(zip(rewards,mols))\n",
    "candidates = sorted(candidates, key=lambda m: m[0], reverse=True)\n",
    "\n",
    "avg_reward_in_topk_modes = compute_diverse_topk(candidates, k, tanimoto_thresh)\n",
    "avg_reward_in_topk_modes"
   ]
  },
  {
   "cell_type": "code",
   "execution_count": 11,
   "metadata": {},
   "outputs": [
    {
     "data": {
      "text/plain": [
       "(21, 25)"
      ]
     },
     "execution_count": 11,
     "metadata": {},
     "output_type": "execute_result"
    }
   ],
   "source": [
    "num_of_modes = compute_num_of_modes(candidates, 0.6, 0.7)\n",
    "num_of_modes"
   ]
  },
  {
   "cell_type": "code",
   "execution_count": null,
   "metadata": {},
   "outputs": [],
   "source": []
  }
 ],
 "metadata": {
  "kernelspec": {
   "display_name": "gflownet",
   "language": "python",
   "name": "python3"
  },
  "language_info": {
   "codemirror_mode": {
    "name": "ipython",
    "version": 3
   },
   "file_extension": ".py",
   "mimetype": "text/x-python",
   "name": "python",
   "nbconvert_exporter": "python",
   "pygments_lexer": "ipython3",
   "version": "3.9.15"
  },
  "orig_nbformat": 4
 },
 "nbformat": 4,
 "nbformat_minor": 2
}
