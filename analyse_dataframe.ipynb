{
 "cells": [
  {
   "cell_type": "code",
   "execution_count": 87,
   "metadata": {},
   "outputs": [],
   "source": [
    "import pandas as pd\n",
    "from matplotlib import pyplot as plt\n",
    "\n",
    "# Read the data from the CSV file\n",
    "\n",
    "trials = [\"qed_FM\",\"qed_TB\",\"qed_SubTB\",\"seh_TB\",\"seh_SubTB\"] #seh_FM\n",
    "\n",
    "dataframes = [pd.read_csv(f'./logs/training_objectives/{trial}/dataframe.csv') for trial in trials]\n"
   ]
  },
  {
   "cell_type": "code",
   "execution_count": 67,
   "metadata": {},
   "outputs": [],
   "source": [
    "df = pd.concat(dataframes, ignore_index=True)"
   ]
  },
  {
   "cell_type": "code",
   "execution_count": 68,
   "metadata": {},
   "outputs": [],
   "source": [
    "#if df_qed[\"config/algo/method\"]==\"TB\" and df_qed[\"config/algo/tb/do_subtb\"]==True change the value in method column to SubTB\n",
    "\n",
    "#find the rows where the method is TB and the subtb is true\n",
    "df.loc[(df[\"config/algo/method\"]==\"TB\") & (df[\"config/algo/tb/do_subtb\"]==True), \"config/algo/method\"] = \"SubTB\"\n",
    "\n",
    "\n",
    "#df[\"config/algo/method\"]"
   ]
  },
  {
   "cell_type": "code",
   "execution_count": 69,
   "metadata": {},
   "outputs": [
    {
     "data": {
      "text/plain": [
       "config/algo/method\n",
       "TB       32\n",
       "SubTB    32\n",
       "FM        3\n",
       "Name: count, dtype: int64"
      ]
     },
     "execution_count": 69,
     "metadata": {},
     "output_type": "execute_result"
    }
   ],
   "source": [
    "df[\"config/algo/method\"].value_counts()"
   ]
  },
  {
   "cell_type": "code",
   "execution_count": 70,
   "metadata": {},
   "outputs": [],
   "source": [
    "# pick only the qed tasks \"confg/task/name\" should be qed\n",
    "df_qed = df[df[\"config/task/name\"] == \"qed\"]\n",
    "df_seh = df[df[\"config/task/name\"] == \"seh\"]"
   ]
  },
  {
   "cell_type": "code",
   "execution_count": 71,
   "metadata": {},
   "outputs": [
    {
     "data": {
      "text/plain": [
       "((67, 63), (35, 63), (32, 63))"
      ]
     },
     "execution_count": 71,
     "metadata": {},
     "output_type": "execute_result"
    }
   ],
   "source": [
    "df.shape, df_qed.shape, df_seh.shape "
   ]
  },
  {
   "cell_type": "code",
   "execution_count": 72,
   "metadata": {},
   "outputs": [
    {
     "data": {
      "text/plain": [
       "config/task/name\n",
       "qed    35\n",
       "seh    32\n",
       "Name: count, dtype: int64"
      ]
     },
     "execution_count": 72,
     "metadata": {},
     "output_type": "execute_result"
    }
   ],
   "source": [
    "df[\"config/task/name\"].value_counts()"
   ]
  },
  {
   "cell_type": "code",
   "execution_count": 77,
   "metadata": {},
   "outputs": [],
   "source": [
    "df = df_qed #dataframe to analyse"
   ]
  },
  {
   "cell_type": "code",
   "execution_count": 90,
   "metadata": {},
   "outputs": [
    {
     "data": {
      "text/plain": [
       "config/algo/method\n",
       "SubTB    16\n",
       "TB       16\n",
       "FM        3\n",
       "Name: count, dtype: int64"
      ]
     },
     "execution_count": 90,
     "metadata": {},
     "output_type": "execute_result"
    }
   ],
   "source": [
    "df[\"config/algo/method\"].value_counts()"
   ]
  },
  {
   "cell_type": "code",
   "execution_count": 78,
   "metadata": {},
   "outputs": [
    {
     "data": {
      "text/plain": [
       "<Axes: xlabel='config/algo/method'>"
      ]
     },
     "execution_count": 78,
     "metadata": {},
     "output_type": "execute_result"
    },
    {
     "data": {
      "image/png": "[encoded data removed]",
      "text/plain": [
       "<Figure size 640x480 with 1 Axes>"
      ]
     },
     "metadata": {},
     "output_type": "display_data"
    }
   ],
   "source": [
    "# sort dataframe by val_loss\n",
    "df = df.sort_values(by=\"val_loss\", ascending=True)\n",
    "df[\"val_loss\"]\n",
    "\n",
    "#take first 5 rows and plot the distribution of the column \"config/method\"\n",
    "df.head(10)[\"config/algo/method\"].value_counts().plot(kind=\"bar\")"
   ]
  },
  {
   "cell_type": "code",
   "execution_count": 88,
   "metadata": {},
   "outputs": [
    {
     "data": {
      "text/plain": [
       "<BarContainer object of 3 artists>"
      ]
     },
     "execution_count": 88,
     "metadata": {},
     "output_type": "execute_result"
    },
    {
     "data": {
      "image/png": "[encoded data removed]",
      "text/plain": [
       "<Figure size 640x480 with 1 Axes>"
      ]
     },
     "metadata": {},
     "output_type": "display_data"
    }
   ],
   "source": [
    "# get all instances of method == \"TB\"\n",
    "df[df['config/algo/method'] == \"TB\"][\"val_loss\"]\n",
    "#get the 95% percentile of the val_loss\n",
    "df[df['config/algo/method'] == \"TB\"][\"val_loss\"].quantile(0.05)\n",
    "\n",
    "# repeat that for the other methods (TB, SubTB and FM) and plot the results\n",
    "quantiles = []\n",
    "for method in [\"SubTB\", \"TB\", \"FM\"]:\n",
    "    quantiles.append(df[df['config/algo/method'] == method][\"val_loss\"].quantile(0.05))\n",
    "\n",
    "plt.bar([\"SubTB\", \"TB\", \"FM\"], quantiles)"
   ]
  },
  {
   "cell_type": "code",
   "execution_count": null,
   "metadata": {},
   "outputs": [],
   "source": []
  }
 ],
 "metadata": {
  "kernelspec": {
   "display_name": "gflownet",
   "language": "python",
   "name": "python3"
  },
  "language_info": {
   "codemirror_mode": {
    "name": "ipython",
    "version": 3
   },
   "file_extension": ".py",
   "mimetype": "text/x-python",
   "name": "python",
   "nbconvert_exporter": "python",
   "pygments_lexer": "ipython3",
   "version": "3.9.15"
  },
  "orig_nbformat": 4
 },
 "nbformat": 4,
 "nbformat_minor": 2
}
